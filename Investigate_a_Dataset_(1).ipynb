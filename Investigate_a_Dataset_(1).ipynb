{
  "cells": [
    {
      "cell_type": "markdown",
      "metadata": {
        "id": "view-in-github",
        "colab_type": "text"
      },
      "source": [
        "<a href=\"https://colab.research.google.com/github/Zayyad005/Zayyad005/blob/main/Investigate_a_Dataset_(1).ipynb\" target=\"_parent\"><img src=\"https://colab.research.google.com/assets/colab-badge.svg\" alt=\"Open In Colab\"/></a>"
      ]
    },
    {
      "cell_type": "markdown",
      "metadata": {
        "id": "2nlOzIrpjqW9"
      },
      "source": [
        "\n",
        "# Project: Investigate a Dataset - [No Show Appointment Dataset]\n",
        "\n",
        "## Table of Contents\n",
        "###Introduction\n",
        "###Data Wrangling\n",
        "###Exploratory Data Analysis\n",
        "###Conclusion\n"
      ]
    },
    {
      "cell_type": "markdown",
      "metadata": {
        "id": "m5g_O-gnjqXD"
      },
      "source": [
        "# Introduction\n",
        "\n",
        "### Dataset Description \n",
        " i first installed the panda version 0.25.0,i then import the pamda and matplotlib packages.The datset used for the analysis is the No Show Appointment Dataset,which i got through the link below:https://d17h27t6h515a5.cloudfront.net/topher/2017/october/59dd2ee9a_noshowappointments-kagglev2-may-2016/noshowappointments-kagglev2-may-2016.csv\n",
        " The set for the analysis is for the analysisis from a hospital record which shows several variables including whether or not the pateint comes for an appointment.The objective of of the analysis is to how the different variables from the dataset interact and results in the pateint being present or absent.The data set contains 14 columns but four question will be posed and only four columns(age,scholarship,handicap and no_show) will be useful to answer the questioned that i posed for the research, hence the other colums will be dropped.\n",
        " The four question that was posed are:\n",
        " \n",
        "\n",
        "## Question(s) for Analysis\n",
        "###Q1.How does Agegroup Affects Whether the Patients show up for their Appointment or Not(Over 18 and  Under 18)?\n",
        "###Q2.How has been a handicap Affect the patient showing up for Appointment?\n",
        "###Q3How does having Health Insurance(Scholarship), and being handicap , affected the patient showing up for their appointment?\n",
        "###Q4.How has patients with Health Insurance or not showed for their Appointment?"
      ]
    },
    {
      "cell_type": "markdown",
      "metadata": {
        "id": "dgb2HA0FjqXF"
      },
      "source": [
        "## Data Wrangling"
      ]
    },
    {
      "cell_type": "code",
      "execution_count": null,
      "metadata": {
        "id": "0p60p8iOjqXG",
        "outputId": "87c071a9-ac60-438b-c3b9-e030dd056792"
      },
      "outputs": [
        {
          "name": "stdout",
          "output_type": "stream",
          "text": [
            "Collecting pandas==0.25.0\n",
            "\u001b[?25l  Downloading https://files.pythonhosted.org/packages/1d/9a/7eb9952f4b4d73fbd75ad1d5d6112f407e695957444cb695cbb3cdab918a/pandas-0.25.0-cp36-cp36m-manylinux1_x86_64.whl (10.5MB)\n",
            "\u001b[K    100% |████████████████████████████████| 10.5MB 1.6MB/s eta 0:00:01  7% |██▎                             | 747kB 12.6MB/s eta 0:00:01    13% |████▎                           | 1.4MB 27.2MB/s eta 0:00:01    19% |██████▍                         | 2.1MB 13.4MB/s eta 0:00:01    57% |██████████████████▍             | 6.0MB 12.8MB/s eta 0:00:01    68% |██████████████████████          | 7.2MB 13.0MB/s eta 0:00:01    74% |███████████████████████▊        | 7.8MB 13.9MB/s eta 0:00:01    84% |███████████████████████████     | 8.8MB 12.6MB/s eta 0:00:01    90% |█████████████████████████████   | 9.5MB 12.9MB/s eta 0:00:01    96% |██████████████████████████████▉ | 10.1MB 12.8MB/s eta 0:00:01\n",
            "\u001b[?25hRequirement already satisfied, skipping upgrade: pytz>=2017.2 in /opt/conda/lib/python3.6/site-packages (from pandas==0.25.0) (2017.3)\n",
            "Collecting numpy>=1.13.3 (from pandas==0.25.0)\n",
            "\u001b[?25l  Downloading https://files.pythonhosted.org/packages/45/b2/6c7545bb7a38754d63048c7696804a0d947328125d81bf12beaa692c3ae3/numpy-1.19.5-cp36-cp36m-manylinux1_x86_64.whl (13.4MB)\n",
            "\u001b[K    100% |████████████████████████████████| 13.4MB 1.1MB/s ta 0:00:011   12% |████▏                           | 1.7MB 9.5MB/s eta 0:00:02    17% |█████▋                          | 2.4MB 16.4MB/s eta 0:00:01    41% |█████████████▎                  | 5.6MB 13.0MB/s eta 0:00:01    44% |██████████████▍                 | 6.0MB 8.8MB/s eta 0:00:01    57% |██████████████████▎             | 7.6MB 9.1MB/s eta 0:00:01    61% |███████████████████▊            | 8.2MB 25.7MB/s eta 0:00:01    65% |█████████████████████           | 8.8MB 13.6MB/s eta 0:00:01    69% |██████████████████████▏         | 9.3MB 26.1MB/s eta 0:00:01    77% |████████████████████████▊       | 10.4MB 9.4MB/s eta 0:00:01    80% |█████████████████████████▉      | 10.8MB 7.8MB/s eta 0:00:01    84% |███████████████████████████     | 11.3MB 24.5MB/s eta 0:00:01    90% |█████████████████████████████   | 12.2MB 10.1MB/s eta 0:00:01\n",
            "\u001b[?25hRequirement already satisfied, skipping upgrade: python-dateutil>=2.6.1 in /opt/conda/lib/python3.6/site-packages (from pandas==0.25.0) (2.6.1)\n",
            "Requirement already satisfied, skipping upgrade: six>=1.5 in /opt/conda/lib/python3.6/site-packages (from python-dateutil>=2.6.1->pandas==0.25.0) (1.11.0)\n",
            "\u001b[31mtensorflow 1.3.0 requires tensorflow-tensorboard<0.2.0,>=0.1.0, which is not installed.\u001b[0m\n",
            "Installing collected packages: numpy, pandas\n",
            "  Found existing installation: numpy 1.12.1\n",
            "    Uninstalling numpy-1.12.1:\n",
            "      Successfully uninstalled numpy-1.12.1\n",
            "  Found existing installation: pandas 0.23.3\n",
            "    Uninstalling pandas-0.23.3:\n",
            "      Successfully uninstalled pandas-0.23.3\n",
            "Successfully installed numpy-1.19.5 pandas-0.25.0\n"
          ]
        }
      ],
      "source": [
        "# Upgrade pandas to use dataframe \n",
        "!pip install --upgrade pandas==0.25.0\n"
      ]
    },
    {
      "cell_type": "code",
      "execution_count": null,
      "metadata": {
        "id": "ySsg1Y45jqXI"
      },
      "outputs": [],
      "source": [
        "#The code above is to import the various packages to the noteb ook for the data analysis process\n",
        "import pandas as pd\n",
        "import numpy as np\n",
        "import matplotlib.pyplot as plt\n",
        "%matplotlib inline\n",
        "\n"
      ]
    },
    {
      "cell_type": "code",
      "execution_count": null,
      "metadata": {
        "id": "ICPWXYkNjqXJ",
        "outputId": "134603f3-35c2-4b10-eb0a-d99777d03c5c"
      },
      "outputs": [
        {
          "data": {
            "text/html": [
              "<div>\n",
              "<style scoped>\n",
              "    .dataframe tbody tr th:only-of-type {\n",
              "        vertical-align: middle;\n",
              "    }\n",
              "\n",
              "    .dataframe tbody tr th {\n",
              "        vertical-align: top;\n",
              "    }\n",
              "\n",
              "    .dataframe thead th {\n",
              "        text-align: right;\n",
              "    }\n",
              "</style>\n",
              "<table border=\"1\" class=\"dataframe\">\n",
              "  <thead>\n",
              "    <tr style=\"text-align: right;\">\n",
              "      <th></th>\n",
              "      <th>PatientId</th>\n",
              "      <th>AppointmentID</th>\n",
              "      <th>Gender</th>\n",
              "      <th>ScheduledDay</th>\n",
              "      <th>AppointmentDay</th>\n",
              "      <th>Age</th>\n",
              "      <th>Neighbourhood</th>\n",
              "      <th>Scholarship</th>\n",
              "      <th>Hipertension</th>\n",
              "      <th>Diabetes</th>\n",
              "      <th>Alcoholism</th>\n",
              "      <th>Handcap</th>\n",
              "      <th>SMS_received</th>\n",
              "      <th>No-show</th>\n",
              "    </tr>\n",
              "  </thead>\n",
              "  <tbody>\n",
              "    <tr>\n",
              "      <th>0</th>\n",
              "      <td>2.987250e+13</td>\n",
              "      <td>5642903</td>\n",
              "      <td>F</td>\n",
              "      <td>2016-04-29T18:38:08Z</td>\n",
              "      <td>2016-04-29T00:00:00Z</td>\n",
              "      <td>62</td>\n",
              "      <td>JARDIM DA PENHA</td>\n",
              "      <td>0</td>\n",
              "      <td>1</td>\n",
              "      <td>0</td>\n",
              "      <td>0</td>\n",
              "      <td>0</td>\n",
              "      <td>0</td>\n",
              "      <td>No</td>\n",
              "    </tr>\n",
              "    <tr>\n",
              "      <th>1</th>\n",
              "      <td>5.589978e+14</td>\n",
              "      <td>5642503</td>\n",
              "      <td>M</td>\n",
              "      <td>2016-04-29T16:08:27Z</td>\n",
              "      <td>2016-04-29T00:00:00Z</td>\n",
              "      <td>56</td>\n",
              "      <td>JARDIM DA PENHA</td>\n",
              "      <td>0</td>\n",
              "      <td>0</td>\n",
              "      <td>0</td>\n",
              "      <td>0</td>\n",
              "      <td>0</td>\n",
              "      <td>0</td>\n",
              "      <td>No</td>\n",
              "    </tr>\n",
              "    <tr>\n",
              "      <th>2</th>\n",
              "      <td>4.262962e+12</td>\n",
              "      <td>5642549</td>\n",
              "      <td>F</td>\n",
              "      <td>2016-04-29T16:19:04Z</td>\n",
              "      <td>2016-04-29T00:00:00Z</td>\n",
              "      <td>62</td>\n",
              "      <td>MATA DA PRAIA</td>\n",
              "      <td>0</td>\n",
              "      <td>0</td>\n",
              "      <td>0</td>\n",
              "      <td>0</td>\n",
              "      <td>0</td>\n",
              "      <td>0</td>\n",
              "      <td>No</td>\n",
              "    </tr>\n",
              "    <tr>\n",
              "      <th>3</th>\n",
              "      <td>8.679512e+11</td>\n",
              "      <td>5642828</td>\n",
              "      <td>F</td>\n",
              "      <td>2016-04-29T17:29:31Z</td>\n",
              "      <td>2016-04-29T00:00:00Z</td>\n",
              "      <td>8</td>\n",
              "      <td>PONTAL DE CAMBURI</td>\n",
              "      <td>0</td>\n",
              "      <td>0</td>\n",
              "      <td>0</td>\n",
              "      <td>0</td>\n",
              "      <td>0</td>\n",
              "      <td>0</td>\n",
              "      <td>No</td>\n",
              "    </tr>\n",
              "    <tr>\n",
              "      <th>4</th>\n",
              "      <td>8.841186e+12</td>\n",
              "      <td>5642494</td>\n",
              "      <td>F</td>\n",
              "      <td>2016-04-29T16:07:23Z</td>\n",
              "      <td>2016-04-29T00:00:00Z</td>\n",
              "      <td>56</td>\n",
              "      <td>JARDIM DA PENHA</td>\n",
              "      <td>0</td>\n",
              "      <td>1</td>\n",
              "      <td>1</td>\n",
              "      <td>0</td>\n",
              "      <td>0</td>\n",
              "      <td>0</td>\n",
              "      <td>No</td>\n",
              "    </tr>\n",
              "  </tbody>\n",
              "</table>\n",
              "</div>"
            ],
            "text/plain": [
              "      PatientId  AppointmentID Gender          ScheduledDay  \\\n",
              "0  2.987250e+13        5642903      F  2016-04-29T18:38:08Z   \n",
              "1  5.589978e+14        5642503      M  2016-04-29T16:08:27Z   \n",
              "2  4.262962e+12        5642549      F  2016-04-29T16:19:04Z   \n",
              "3  8.679512e+11        5642828      F  2016-04-29T17:29:31Z   \n",
              "4  8.841186e+12        5642494      F  2016-04-29T16:07:23Z   \n",
              "\n",
              "         AppointmentDay  Age      Neighbourhood  Scholarship  Hipertension  \\\n",
              "0  2016-04-29T00:00:00Z   62    JARDIM DA PENHA            0             1   \n",
              "1  2016-04-29T00:00:00Z   56    JARDIM DA PENHA            0             0   \n",
              "2  2016-04-29T00:00:00Z   62      MATA DA PRAIA            0             0   \n",
              "3  2016-04-29T00:00:00Z    8  PONTAL DE CAMBURI            0             0   \n",
              "4  2016-04-29T00:00:00Z   56    JARDIM DA PENHA            0             1   \n",
              "\n",
              "   Diabetes  Alcoholism  Handcap  SMS_received No-show  \n",
              "0         0           0        0             0      No  \n",
              "1         0           0        0             0      No  \n",
              "2         0           0        0             0      No  \n",
              "3         0           0        0             0      No  \n",
              "4         1           0        0             0      No  "
            ]
          },
          "execution_count": 3,
          "metadata": {},
          "output_type": "execute_result"
        }
      ],
      "source": [
        "#The code above is to load the chosen dataframe into the jupyter notebook(csv format)\n",
        "df = pd.read_csv('Database_No_show_appointments/noshowappointments-kagglev2-may-2016.csv')\n",
        "df.head()\n"
      ]
    },
    {
      "cell_type": "code",
      "execution_count": null,
      "metadata": {
        "id": "QQGpffjujqXL",
        "outputId": "61c87c45-9fbf-4a46-e879-d9f9496ff811"
      },
      "outputs": [
        {
          "data": {
            "text/plain": [
              "(110527, 14)"
            ]
          },
          "execution_count": 4,
          "metadata": {},
          "output_type": "execute_result"
        }
      ],
      "source": [
        "#The code above is to get the  data sie in rows and columns\n",
        "df.shape\n"
      ]
    },
    {
      "cell_type": "code",
      "execution_count": null,
      "metadata": {
        "id": "ah04tFeljqXM",
        "outputId": "425ee615-749e-47e0-ecb5-07dbde116f1f"
      },
      "outputs": [
        {
          "data": {
            "text/plain": [
              "PatientId         float64\n",
              "AppointmentID       int64\n",
              "Gender             object\n",
              "ScheduledDay       object\n",
              "AppointmentDay     object\n",
              "Age                 int64\n",
              "Neighbourhood      object\n",
              "Scholarship         int64\n",
              "Hipertension        int64\n",
              "Diabetes            int64\n",
              "Alcoholism          int64\n",
              "Handcap             int64\n",
              "SMS_received        int64\n",
              "No-show            object\n",
              "dtype: object"
            ]
          },
          "execution_count": 5,
          "metadata": {},
          "output_type": "execute_result"
        }
      ],
      "source": [
        "#The code above is to get the data types present in the columns\n",
        "df.dtypes\n"
      ]
    },
    {
      "cell_type": "code",
      "execution_count": null,
      "metadata": {
        "id": "NxDXjyABjqXO",
        "outputId": "c34a2afe-0362-4d15-cbec-42a061573b43"
      },
      "outputs": [
        {
          "data": {
            "text/html": [
              "<div>\n",
              "<style scoped>\n",
              "    .dataframe tbody tr th:only-of-type {\n",
              "        vertical-align: middle;\n",
              "    }\n",
              "\n",
              "    .dataframe tbody tr th {\n",
              "        vertical-align: top;\n",
              "    }\n",
              "\n",
              "    .dataframe thead th {\n",
              "        text-align: right;\n",
              "    }\n",
              "</style>\n",
              "<table border=\"1\" class=\"dataframe\">\n",
              "  <thead>\n",
              "    <tr style=\"text-align: right;\">\n",
              "      <th></th>\n",
              "      <th>PatientId</th>\n",
              "      <th>AppointmentID</th>\n",
              "      <th>Age</th>\n",
              "      <th>Scholarship</th>\n",
              "      <th>Hipertension</th>\n",
              "      <th>Diabetes</th>\n",
              "      <th>Alcoholism</th>\n",
              "      <th>Handcap</th>\n",
              "      <th>SMS_received</th>\n",
              "    </tr>\n",
              "  </thead>\n",
              "  <tbody>\n",
              "    <tr>\n",
              "      <th>count</th>\n",
              "      <td>1.105270e+05</td>\n",
              "      <td>1.105270e+05</td>\n",
              "      <td>110527.000000</td>\n",
              "      <td>110527.000000</td>\n",
              "      <td>110527.000000</td>\n",
              "      <td>110527.000000</td>\n",
              "      <td>110527.000000</td>\n",
              "      <td>110527.000000</td>\n",
              "      <td>110527.000000</td>\n",
              "    </tr>\n",
              "    <tr>\n",
              "      <th>mean</th>\n",
              "      <td>1.474963e+14</td>\n",
              "      <td>5.675305e+06</td>\n",
              "      <td>37.088874</td>\n",
              "      <td>0.098266</td>\n",
              "      <td>0.197246</td>\n",
              "      <td>0.071865</td>\n",
              "      <td>0.030400</td>\n",
              "      <td>0.022248</td>\n",
              "      <td>0.321026</td>\n",
              "    </tr>\n",
              "    <tr>\n",
              "      <th>std</th>\n",
              "      <td>2.560949e+14</td>\n",
              "      <td>7.129575e+04</td>\n",
              "      <td>23.110205</td>\n",
              "      <td>0.297675</td>\n",
              "      <td>0.397921</td>\n",
              "      <td>0.258265</td>\n",
              "      <td>0.171686</td>\n",
              "      <td>0.161543</td>\n",
              "      <td>0.466873</td>\n",
              "    </tr>\n",
              "    <tr>\n",
              "      <th>min</th>\n",
              "      <td>3.921784e+04</td>\n",
              "      <td>5.030230e+06</td>\n",
              "      <td>-1.000000</td>\n",
              "      <td>0.000000</td>\n",
              "      <td>0.000000</td>\n",
              "      <td>0.000000</td>\n",
              "      <td>0.000000</td>\n",
              "      <td>0.000000</td>\n",
              "      <td>0.000000</td>\n",
              "    </tr>\n",
              "    <tr>\n",
              "      <th>25%</th>\n",
              "      <td>4.172614e+12</td>\n",
              "      <td>5.640286e+06</td>\n",
              "      <td>18.000000</td>\n",
              "      <td>0.000000</td>\n",
              "      <td>0.000000</td>\n",
              "      <td>0.000000</td>\n",
              "      <td>0.000000</td>\n",
              "      <td>0.000000</td>\n",
              "      <td>0.000000</td>\n",
              "    </tr>\n",
              "    <tr>\n",
              "      <th>50%</th>\n",
              "      <td>3.173184e+13</td>\n",
              "      <td>5.680573e+06</td>\n",
              "      <td>37.000000</td>\n",
              "      <td>0.000000</td>\n",
              "      <td>0.000000</td>\n",
              "      <td>0.000000</td>\n",
              "      <td>0.000000</td>\n",
              "      <td>0.000000</td>\n",
              "      <td>0.000000</td>\n",
              "    </tr>\n",
              "    <tr>\n",
              "      <th>75%</th>\n",
              "      <td>9.439172e+13</td>\n",
              "      <td>5.725524e+06</td>\n",
              "      <td>55.000000</td>\n",
              "      <td>0.000000</td>\n",
              "      <td>0.000000</td>\n",
              "      <td>0.000000</td>\n",
              "      <td>0.000000</td>\n",
              "      <td>0.000000</td>\n",
              "      <td>1.000000</td>\n",
              "    </tr>\n",
              "    <tr>\n",
              "      <th>max</th>\n",
              "      <td>9.999816e+14</td>\n",
              "      <td>5.790484e+06</td>\n",
              "      <td>115.000000</td>\n",
              "      <td>1.000000</td>\n",
              "      <td>1.000000</td>\n",
              "      <td>1.000000</td>\n",
              "      <td>1.000000</td>\n",
              "      <td>4.000000</td>\n",
              "      <td>1.000000</td>\n",
              "    </tr>\n",
              "  </tbody>\n",
              "</table>\n",
              "</div>"
            ],
            "text/plain": [
              "          PatientId  AppointmentID            Age    Scholarship  \\\n",
              "count  1.105270e+05   1.105270e+05  110527.000000  110527.000000   \n",
              "mean   1.474963e+14   5.675305e+06      37.088874       0.098266   \n",
              "std    2.560949e+14   7.129575e+04      23.110205       0.297675   \n",
              "min    3.921784e+04   5.030230e+06      -1.000000       0.000000   \n",
              "25%    4.172614e+12   5.640286e+06      18.000000       0.000000   \n",
              "50%    3.173184e+13   5.680573e+06      37.000000       0.000000   \n",
              "75%    9.439172e+13   5.725524e+06      55.000000       0.000000   \n",
              "max    9.999816e+14   5.790484e+06     115.000000       1.000000   \n",
              "\n",
              "        Hipertension       Diabetes     Alcoholism        Handcap  \\\n",
              "count  110527.000000  110527.000000  110527.000000  110527.000000   \n",
              "mean        0.197246       0.071865       0.030400       0.022248   \n",
              "std         0.397921       0.258265       0.171686       0.161543   \n",
              "min         0.000000       0.000000       0.000000       0.000000   \n",
              "25%         0.000000       0.000000       0.000000       0.000000   \n",
              "50%         0.000000       0.000000       0.000000       0.000000   \n",
              "75%         0.000000       0.000000       0.000000       0.000000   \n",
              "max         1.000000       1.000000       1.000000       4.000000   \n",
              "\n",
              "        SMS_received  \n",
              "count  110527.000000  \n",
              "mean        0.321026  \n",
              "std         0.466873  \n",
              "min         0.000000  \n",
              "25%         0.000000  \n",
              "50%         0.000000  \n",
              "75%         1.000000  \n",
              "max         1.000000  "
            ]
          },
          "execution_count": 6,
          "metadata": {},
          "output_type": "execute_result"
        }
      ],
      "source": [
        "#The code above is to describe statistics of each column\n",
        "df.describe()"
      ]
    },
    {
      "cell_type": "code",
      "execution_count": null,
      "metadata": {
        "id": "z5CabMpRjqXP",
        "outputId": "083844b5-1d44-42ea-d959-11c087c5fbbd"
      },
      "outputs": [
        {
          "data": {
            "text/plain": [
              "PatientId         0\n",
              "AppointmentID     0\n",
              "Gender            0\n",
              "ScheduledDay      0\n",
              "AppointmentDay    0\n",
              "Age               0\n",
              "Neighbourhood     0\n",
              "Scholarship       0\n",
              "Hipertension      0\n",
              "Diabetes          0\n",
              "Alcoholism        0\n",
              "Handcap           0\n",
              "SMS_received      0\n",
              "No-show           0\n",
              "dtype: int64"
            ]
          },
          "execution_count": 7,
          "metadata": {},
          "output_type": "execute_result"
        }
      ],
      "source": [
        "#The code above is to check for empty values in the dataset\n",
        "df.isnull().sum()\n"
      ]
    },
    {
      "cell_type": "code",
      "execution_count": null,
      "metadata": {
        "id": "md8WFbDbjqXP",
        "outputId": "ce6560d8-7491-46f1-f927-4e939e1d5ccf"
      },
      "outputs": [
        {
          "data": {
            "text/plain": [
              "PatientId          62299\n",
              "AppointmentID     110527\n",
              "Gender                 2\n",
              "ScheduledDay      103549\n",
              "AppointmentDay        27\n",
              "Age                  104\n",
              "Neighbourhood         81\n",
              "Scholarship            2\n",
              "Hipertension           2\n",
              "Diabetes               2\n",
              "Alcoholism             2\n",
              "Handcap                5\n",
              "SMS_received           2\n",
              "No-show                2\n",
              "dtype: int64"
            ]
          },
          "execution_count": 8,
          "metadata": {},
          "output_type": "execute_result"
        }
      ],
      "source": [
        "#The code above is to check for unique values in the dataset\n",
        "df.nunique()\n"
      ]
    },
    {
      "cell_type": "markdown",
      "metadata": {
        "id": "_8F61nHajqXQ"
      },
      "source": []
    },
    {
      "cell_type": "code",
      "execution_count": null,
      "metadata": {
        "id": "GNPH5Lf6jqXQ",
        "outputId": "0332d7e0-343f-477f-fbeb-90b0c7b7879a"
      },
      "outputs": [
        {
          "data": {
            "text/plain": [
              "<bound method DataFrame.duplicated of            PatientId  AppointmentID Gender          ScheduledDay  \\\n",
              "0       2.987250e+13        5642903      F  2016-04-29T18:38:08Z   \n",
              "1       5.589978e+14        5642503      M  2016-04-29T16:08:27Z   \n",
              "2       4.262962e+12        5642549      F  2016-04-29T16:19:04Z   \n",
              "3       8.679512e+11        5642828      F  2016-04-29T17:29:31Z   \n",
              "4       8.841186e+12        5642494      F  2016-04-29T16:07:23Z   \n",
              "...              ...            ...    ...                   ...   \n",
              "110522  2.572134e+12        5651768      F  2016-05-03T09:15:35Z   \n",
              "110523  3.596266e+12        5650093      F  2016-05-03T07:27:33Z   \n",
              "110524  1.557663e+13        5630692      F  2016-04-27T16:03:52Z   \n",
              "110525  9.213493e+13        5630323      F  2016-04-27T15:09:23Z   \n",
              "110526  3.775115e+14        5629448      F  2016-04-27T13:30:56Z   \n",
              "\n",
              "              AppointmentDay  Age      Neighbourhood  Scholarship  \\\n",
              "0       2016-04-29T00:00:00Z   62    JARDIM DA PENHA            0   \n",
              "1       2016-04-29T00:00:00Z   56    JARDIM DA PENHA            0   \n",
              "2       2016-04-29T00:00:00Z   62      MATA DA PRAIA            0   \n",
              "3       2016-04-29T00:00:00Z    8  PONTAL DE CAMBURI            0   \n",
              "4       2016-04-29T00:00:00Z   56    JARDIM DA PENHA            0   \n",
              "...                      ...  ...                ...          ...   \n",
              "110522  2016-06-07T00:00:00Z   56        MARIA ORTIZ            0   \n",
              "110523  2016-06-07T00:00:00Z   51        MARIA ORTIZ            0   \n",
              "110524  2016-06-07T00:00:00Z   21        MARIA ORTIZ            0   \n",
              "110525  2016-06-07T00:00:00Z   38        MARIA ORTIZ            0   \n",
              "110526  2016-06-07T00:00:00Z   54        MARIA ORTIZ            0   \n",
              "\n",
              "        Hipertension  Diabetes  Alcoholism  Handcap  SMS_received No-show  \n",
              "0                  1         0           0        0             0      No  \n",
              "1                  0         0           0        0             0      No  \n",
              "2                  0         0           0        0             0      No  \n",
              "3                  0         0           0        0             0      No  \n",
              "4                  1         1           0        0             0      No  \n",
              "...              ...       ...         ...      ...           ...     ...  \n",
              "110522             0         0           0        0             1      No  \n",
              "110523             0         0           0        0             1      No  \n",
              "110524             0         0           0        0             1      No  \n",
              "110525             0         0           0        0             1      No  \n",
              "110526             0         0           0        0             1      No  \n",
              "\n",
              "[110527 rows x 14 columns]>"
            ]
          },
          "execution_count": 9,
          "metadata": {},
          "output_type": "execute_result"
        }
      ],
      "source": [
        "#The code command above is to check for duplicatede values accross the dataset\n",
        "df.duplicated\n"
      ]
    },
    {
      "cell_type": "code",
      "execution_count": null,
      "metadata": {
        "id": "ACKaWa8GjqXR"
      },
      "outputs": [],
      "source": [
        "#To set both cloumns scheduledday and appointmentday to the correct datetime\n",
        "df['ScheduledDay']=pd.to_datetime(df['ScheduledDay'],utc=True)\n",
        "df['AppointmentDay']=pd.to_datetime(df['AppointmentDay'],utc=True)\n"
      ]
    },
    {
      "cell_type": "code",
      "execution_count": null,
      "metadata": {
        "id": "luzEObVmjqXR",
        "outputId": "bbf8d7f8-7639-4401-8153-4d7194164b58"
      },
      "outputs": [
        {
          "data": {
            "text/html": [
              "<div>\n",
              "<style scoped>\n",
              "    .dataframe tbody tr th:only-of-type {\n",
              "        vertical-align: middle;\n",
              "    }\n",
              "\n",
              "    .dataframe tbody tr th {\n",
              "        vertical-align: top;\n",
              "    }\n",
              "\n",
              "    .dataframe thead th {\n",
              "        text-align: right;\n",
              "    }\n",
              "</style>\n",
              "<table border=\"1\" class=\"dataframe\">\n",
              "  <thead>\n",
              "    <tr style=\"text-align: right;\">\n",
              "      <th></th>\n",
              "      <th>PatientId</th>\n",
              "      <th>AppointmentID</th>\n",
              "      <th>Gender</th>\n",
              "      <th>ScheduledDay</th>\n",
              "      <th>AppointmentDay</th>\n",
              "      <th>Age</th>\n",
              "      <th>Neighbourhood</th>\n",
              "      <th>Scholarship</th>\n",
              "      <th>Hipertension</th>\n",
              "      <th>Diabetes</th>\n",
              "      <th>Alcoholism</th>\n",
              "      <th>Handcap</th>\n",
              "      <th>SMS_received</th>\n",
              "      <th>No-show</th>\n",
              "    </tr>\n",
              "  </thead>\n",
              "  <tbody>\n",
              "    <tr>\n",
              "      <th>0</th>\n",
              "      <td>2.987250e+13</td>\n",
              "      <td>5642903</td>\n",
              "      <td>F</td>\n",
              "      <td>2016-04-29 18:38:08+00:00</td>\n",
              "      <td>2016-04-29 00:00:00+00:00</td>\n",
              "      <td>62</td>\n",
              "      <td>JARDIM DA PENHA</td>\n",
              "      <td>0</td>\n",
              "      <td>1</td>\n",
              "      <td>0</td>\n",
              "      <td>0</td>\n",
              "      <td>0</td>\n",
              "      <td>0</td>\n",
              "      <td>No</td>\n",
              "    </tr>\n",
              "    <tr>\n",
              "      <th>1</th>\n",
              "      <td>5.589978e+14</td>\n",
              "      <td>5642503</td>\n",
              "      <td>M</td>\n",
              "      <td>2016-04-29 16:08:27+00:00</td>\n",
              "      <td>2016-04-29 00:00:00+00:00</td>\n",
              "      <td>56</td>\n",
              "      <td>JARDIM DA PENHA</td>\n",
              "      <td>0</td>\n",
              "      <td>0</td>\n",
              "      <td>0</td>\n",
              "      <td>0</td>\n",
              "      <td>0</td>\n",
              "      <td>0</td>\n",
              "      <td>No</td>\n",
              "    </tr>\n",
              "    <tr>\n",
              "      <th>2</th>\n",
              "      <td>4.262962e+12</td>\n",
              "      <td>5642549</td>\n",
              "      <td>F</td>\n",
              "      <td>2016-04-29 16:19:04+00:00</td>\n",
              "      <td>2016-04-29 00:00:00+00:00</td>\n",
              "      <td>62</td>\n",
              "      <td>MATA DA PRAIA</td>\n",
              "      <td>0</td>\n",
              "      <td>0</td>\n",
              "      <td>0</td>\n",
              "      <td>0</td>\n",
              "      <td>0</td>\n",
              "      <td>0</td>\n",
              "      <td>No</td>\n",
              "    </tr>\n",
              "    <tr>\n",
              "      <th>3</th>\n",
              "      <td>8.679512e+11</td>\n",
              "      <td>5642828</td>\n",
              "      <td>F</td>\n",
              "      <td>2016-04-29 17:29:31+00:00</td>\n",
              "      <td>2016-04-29 00:00:00+00:00</td>\n",
              "      <td>8</td>\n",
              "      <td>PONTAL DE CAMBURI</td>\n",
              "      <td>0</td>\n",
              "      <td>0</td>\n",
              "      <td>0</td>\n",
              "      <td>0</td>\n",
              "      <td>0</td>\n",
              "      <td>0</td>\n",
              "      <td>No</td>\n",
              "    </tr>\n",
              "    <tr>\n",
              "      <th>4</th>\n",
              "      <td>8.841186e+12</td>\n",
              "      <td>5642494</td>\n",
              "      <td>F</td>\n",
              "      <td>2016-04-29 16:07:23+00:00</td>\n",
              "      <td>2016-04-29 00:00:00+00:00</td>\n",
              "      <td>56</td>\n",
              "      <td>JARDIM DA PENHA</td>\n",
              "      <td>0</td>\n",
              "      <td>1</td>\n",
              "      <td>1</td>\n",
              "      <td>0</td>\n",
              "      <td>0</td>\n",
              "      <td>0</td>\n",
              "      <td>No</td>\n",
              "    </tr>\n",
              "  </tbody>\n",
              "</table>\n",
              "</div>"
            ],
            "text/plain": [
              "      PatientId  AppointmentID Gender              ScheduledDay  \\\n",
              "0  2.987250e+13        5642903      F 2016-04-29 18:38:08+00:00   \n",
              "1  5.589978e+14        5642503      M 2016-04-29 16:08:27+00:00   \n",
              "2  4.262962e+12        5642549      F 2016-04-29 16:19:04+00:00   \n",
              "3  8.679512e+11        5642828      F 2016-04-29 17:29:31+00:00   \n",
              "4  8.841186e+12        5642494      F 2016-04-29 16:07:23+00:00   \n",
              "\n",
              "             AppointmentDay  Age      Neighbourhood  Scholarship  \\\n",
              "0 2016-04-29 00:00:00+00:00   62    JARDIM DA PENHA            0   \n",
              "1 2016-04-29 00:00:00+00:00   56    JARDIM DA PENHA            0   \n",
              "2 2016-04-29 00:00:00+00:00   62      MATA DA PRAIA            0   \n",
              "3 2016-04-29 00:00:00+00:00    8  PONTAL DE CAMBURI            0   \n",
              "4 2016-04-29 00:00:00+00:00   56    JARDIM DA PENHA            0   \n",
              "\n",
              "   Hipertension  Diabetes  Alcoholism  Handcap  SMS_received No-show  \n",
              "0             1         0           0        0             0      No  \n",
              "1             0         0           0        0             0      No  \n",
              "2             0         0           0        0             0      No  \n",
              "3             0         0           0        0             0      No  \n",
              "4             1         1           0        0             0      No  "
            ]
          },
          "execution_count": 11,
          "metadata": {},
          "output_type": "execute_result"
        }
      ],
      "source": [
        "df.head()"
      ]
    },
    {
      "cell_type": "code",
      "execution_count": null,
      "metadata": {
        "id": "IBmsGoJIjqXS"
      },
      "outputs": [],
      "source": [
        "#To change the column name from uppercase to lower case\n",
        "df.rename(columns=lambda x:x.strip().lower(),inplace=True)\n"
      ]
    },
    {
      "cell_type": "code",
      "execution_count": null,
      "metadata": {
        "id": "Uau1P5zHjqXS",
        "outputId": "a57390a7-69c1-470b-f0dd-e2b19a53b9a3"
      },
      "outputs": [
        {
          "data": {
            "text/html": [
              "<div>\n",
              "<style scoped>\n",
              "    .dataframe tbody tr th:only-of-type {\n",
              "        vertical-align: middle;\n",
              "    }\n",
              "\n",
              "    .dataframe tbody tr th {\n",
              "        vertical-align: top;\n",
              "    }\n",
              "\n",
              "    .dataframe thead th {\n",
              "        text-align: right;\n",
              "    }\n",
              "</style>\n",
              "<table border=\"1\" class=\"dataframe\">\n",
              "  <thead>\n",
              "    <tr style=\"text-align: right;\">\n",
              "      <th></th>\n",
              "      <th>patientid</th>\n",
              "      <th>appointmentid</th>\n",
              "      <th>gender</th>\n",
              "      <th>scheduledday</th>\n",
              "      <th>appointmentday</th>\n",
              "      <th>age</th>\n",
              "      <th>neighbourhood</th>\n",
              "      <th>scholarship</th>\n",
              "      <th>hipertension</th>\n",
              "      <th>diabetes</th>\n",
              "      <th>alcoholism</th>\n",
              "      <th>handcap</th>\n",
              "      <th>sms_received</th>\n",
              "      <th>no-show</th>\n",
              "    </tr>\n",
              "  </thead>\n",
              "  <tbody>\n",
              "    <tr>\n",
              "      <th>0</th>\n",
              "      <td>2.987250e+13</td>\n",
              "      <td>5642903</td>\n",
              "      <td>F</td>\n",
              "      <td>2016-04-29 18:38:08+00:00</td>\n",
              "      <td>2016-04-29 00:00:00+00:00</td>\n",
              "      <td>62</td>\n",
              "      <td>JARDIM DA PENHA</td>\n",
              "      <td>0</td>\n",
              "      <td>1</td>\n",
              "      <td>0</td>\n",
              "      <td>0</td>\n",
              "      <td>0</td>\n",
              "      <td>0</td>\n",
              "      <td>No</td>\n",
              "    </tr>\n",
              "    <tr>\n",
              "      <th>1</th>\n",
              "      <td>5.589978e+14</td>\n",
              "      <td>5642503</td>\n",
              "      <td>M</td>\n",
              "      <td>2016-04-29 16:08:27+00:00</td>\n",
              "      <td>2016-04-29 00:00:00+00:00</td>\n",
              "      <td>56</td>\n",
              "      <td>JARDIM DA PENHA</td>\n",
              "      <td>0</td>\n",
              "      <td>0</td>\n",
              "      <td>0</td>\n",
              "      <td>0</td>\n",
              "      <td>0</td>\n",
              "      <td>0</td>\n",
              "      <td>No</td>\n",
              "    </tr>\n",
              "    <tr>\n",
              "      <th>2</th>\n",
              "      <td>4.262962e+12</td>\n",
              "      <td>5642549</td>\n",
              "      <td>F</td>\n",
              "      <td>2016-04-29 16:19:04+00:00</td>\n",
              "      <td>2016-04-29 00:00:00+00:00</td>\n",
              "      <td>62</td>\n",
              "      <td>MATA DA PRAIA</td>\n",
              "      <td>0</td>\n",
              "      <td>0</td>\n",
              "      <td>0</td>\n",
              "      <td>0</td>\n",
              "      <td>0</td>\n",
              "      <td>0</td>\n",
              "      <td>No</td>\n",
              "    </tr>\n",
              "    <tr>\n",
              "      <th>3</th>\n",
              "      <td>8.679512e+11</td>\n",
              "      <td>5642828</td>\n",
              "      <td>F</td>\n",
              "      <td>2016-04-29 17:29:31+00:00</td>\n",
              "      <td>2016-04-29 00:00:00+00:00</td>\n",
              "      <td>8</td>\n",
              "      <td>PONTAL DE CAMBURI</td>\n",
              "      <td>0</td>\n",
              "      <td>0</td>\n",
              "      <td>0</td>\n",
              "      <td>0</td>\n",
              "      <td>0</td>\n",
              "      <td>0</td>\n",
              "      <td>No</td>\n",
              "    </tr>\n",
              "    <tr>\n",
              "      <th>4</th>\n",
              "      <td>8.841186e+12</td>\n",
              "      <td>5642494</td>\n",
              "      <td>F</td>\n",
              "      <td>2016-04-29 16:07:23+00:00</td>\n",
              "      <td>2016-04-29 00:00:00+00:00</td>\n",
              "      <td>56</td>\n",
              "      <td>JARDIM DA PENHA</td>\n",
              "      <td>0</td>\n",
              "      <td>1</td>\n",
              "      <td>1</td>\n",
              "      <td>0</td>\n",
              "      <td>0</td>\n",
              "      <td>0</td>\n",
              "      <td>No</td>\n",
              "    </tr>\n",
              "  </tbody>\n",
              "</table>\n",
              "</div>"
            ],
            "text/plain": [
              "      patientid  appointmentid gender              scheduledday  \\\n",
              "0  2.987250e+13        5642903      F 2016-04-29 18:38:08+00:00   \n",
              "1  5.589978e+14        5642503      M 2016-04-29 16:08:27+00:00   \n",
              "2  4.262962e+12        5642549      F 2016-04-29 16:19:04+00:00   \n",
              "3  8.679512e+11        5642828      F 2016-04-29 17:29:31+00:00   \n",
              "4  8.841186e+12        5642494      F 2016-04-29 16:07:23+00:00   \n",
              "\n",
              "             appointmentday  age      neighbourhood  scholarship  \\\n",
              "0 2016-04-29 00:00:00+00:00   62    JARDIM DA PENHA            0   \n",
              "1 2016-04-29 00:00:00+00:00   56    JARDIM DA PENHA            0   \n",
              "2 2016-04-29 00:00:00+00:00   62      MATA DA PRAIA            0   \n",
              "3 2016-04-29 00:00:00+00:00    8  PONTAL DE CAMBURI            0   \n",
              "4 2016-04-29 00:00:00+00:00   56    JARDIM DA PENHA            0   \n",
              "\n",
              "   hipertension  diabetes  alcoholism  handcap  sms_received no-show  \n",
              "0             1         0           0        0             0      No  \n",
              "1             0         0           0        0             0      No  \n",
              "2             0         0           0        0             0      No  \n",
              "3             0         0           0        0             0      No  \n",
              "4             1         1           0        0             0      No  "
            ]
          },
          "execution_count": 13,
          "metadata": {},
          "output_type": "execute_result"
        }
      ],
      "source": [
        "df.head()"
      ]
    },
    {
      "cell_type": "code",
      "execution_count": null,
      "metadata": {
        "id": "eOVWPs3gjqXS",
        "outputId": "2e8aa14d-b251-4e0b-d400-6ae46fbb9737"
      },
      "outputs": [
        {
          "data": {
            "text/plain": [
              "False"
            ]
          },
          "execution_count": 14,
          "metadata": {},
          "output_type": "execute_result"
        }
      ],
      "source": [
        "#To get the sum of the missing value\n",
        "df.isnull().sum().any()"
      ]
    },
    {
      "cell_type": "code",
      "execution_count": null,
      "metadata": {
        "id": "mEWQ1K9mjqXT",
        "outputId": "49cb55da-c956-469a-df8c-a150eef46151"
      },
      "outputs": [
        {
          "data": {
            "text/html": [
              "<div>\n",
              "<style scoped>\n",
              "    .dataframe tbody tr th:only-of-type {\n",
              "        vertical-align: middle;\n",
              "    }\n",
              "\n",
              "    .dataframe tbody tr th {\n",
              "        vertical-align: top;\n",
              "    }\n",
              "\n",
              "    .dataframe thead th {\n",
              "        text-align: right;\n",
              "    }\n",
              "</style>\n",
              "<table border=\"1\" class=\"dataframe\">\n",
              "  <thead>\n",
              "    <tr style=\"text-align: right;\">\n",
              "      <th></th>\n",
              "      <th>patientid</th>\n",
              "      <th>appointmentid</th>\n",
              "      <th>gender</th>\n",
              "      <th>scheduledday</th>\n",
              "      <th>appointmentday</th>\n",
              "      <th>age</th>\n",
              "      <th>neighbourhood</th>\n",
              "      <th>scholarship</th>\n",
              "      <th>hipertension</th>\n",
              "      <th>diabetes</th>\n",
              "      <th>alcoholism</th>\n",
              "      <th>handcap</th>\n",
              "      <th>sms_received</th>\n",
              "      <th>no-show</th>\n",
              "    </tr>\n",
              "  </thead>\n",
              "  <tbody>\n",
              "    <tr>\n",
              "      <th>99832</th>\n",
              "      <td>4.659432e+14</td>\n",
              "      <td>5775010</td>\n",
              "      <td>F</td>\n",
              "      <td>2016-06-06 08:58:13+00:00</td>\n",
              "      <td>2016-06-06 00:00:00+00:00</td>\n",
              "      <td>-1</td>\n",
              "      <td>ROMÃO</td>\n",
              "      <td>0</td>\n",
              "      <td>0</td>\n",
              "      <td>0</td>\n",
              "      <td>0</td>\n",
              "      <td>0</td>\n",
              "      <td>0</td>\n",
              "      <td>No</td>\n",
              "    </tr>\n",
              "  </tbody>\n",
              "</table>\n",
              "</div>"
            ],
            "text/plain": [
              "          patientid  appointmentid gender              scheduledday  \\\n",
              "99832  4.659432e+14        5775010      F 2016-06-06 08:58:13+00:00   \n",
              "\n",
              "                 appointmentday  age neighbourhood  scholarship  hipertension  \\\n",
              "99832 2016-06-06 00:00:00+00:00   -1         ROMÃO            0             0   \n",
              "\n",
              "       diabetes  alcoholism  handcap  sms_received no-show  \n",
              "99832         0           0        0             0      No  "
            ]
          },
          "execution_count": 15,
          "metadata": {},
          "output_type": "execute_result"
        }
      ],
      "source": [
        "#To check for negative value in the age column\n",
        "neg = df[df['age'] < 0]\n",
        "df.drop(neg.index, inplace = True)\n",
        "neg"
      ]
    },
    {
      "cell_type": "code",
      "execution_count": null,
      "metadata": {
        "id": "HXJiNyFIjqXT",
        "outputId": "3bcd4ab9-21d3-47ee-cdfd-035ca9d81684"
      },
      "outputs": [
        {
          "data": {
            "text/html": [
              "<div>\n",
              "<style scoped>\n",
              "    .dataframe tbody tr th:only-of-type {\n",
              "        vertical-align: middle;\n",
              "    }\n",
              "\n",
              "    .dataframe tbody tr th {\n",
              "        vertical-align: top;\n",
              "    }\n",
              "\n",
              "    .dataframe thead th {\n",
              "        text-align: right;\n",
              "    }\n",
              "</style>\n",
              "<table border=\"1\" class=\"dataframe\">\n",
              "  <thead>\n",
              "    <tr style=\"text-align: right;\">\n",
              "      <th></th>\n",
              "      <th>patientid</th>\n",
              "      <th>appointmentid</th>\n",
              "      <th>gender</th>\n",
              "      <th>scheduledday</th>\n",
              "      <th>appointmentday</th>\n",
              "      <th>age</th>\n",
              "      <th>neighbourhood</th>\n",
              "      <th>scholarship</th>\n",
              "      <th>hipertension</th>\n",
              "      <th>diabetes</th>\n",
              "      <th>alcoholism</th>\n",
              "      <th>handcap</th>\n",
              "      <th>sms_received</th>\n",
              "      <th>no-show</th>\n",
              "    </tr>\n",
              "  </thead>\n",
              "  <tbody>\n",
              "    <tr>\n",
              "      <th>946</th>\n",
              "      <td>7.282582e+13</td>\n",
              "      <td>5582483</td>\n",
              "      <td>M</td>\n",
              "      <td>2016-04-14 09:26:08+00:00</td>\n",
              "      <td>2016-04-29 00:00:00+00:00</td>\n",
              "      <td>94</td>\n",
              "      <td>BELA VISTA</td>\n",
              "      <td>0</td>\n",
              "      <td>1</td>\n",
              "      <td>1</td>\n",
              "      <td>0</td>\n",
              "      <td>2</td>\n",
              "      <td>1</td>\n",
              "      <td>No</td>\n",
              "    </tr>\n",
              "    <tr>\n",
              "      <th>1665</th>\n",
              "      <td>1.242919e+13</td>\n",
              "      <td>5525497</td>\n",
              "      <td>M</td>\n",
              "      <td>2016-03-30 09:16:41+00:00</td>\n",
              "      <td>2016-04-29 00:00:00+00:00</td>\n",
              "      <td>64</td>\n",
              "      <td>SANTA MARTHA</td>\n",
              "      <td>0</td>\n",
              "      <td>1</td>\n",
              "      <td>0</td>\n",
              "      <td>1</td>\n",
              "      <td>2</td>\n",
              "      <td>1</td>\n",
              "      <td>No</td>\n",
              "    </tr>\n",
              "    <tr>\n",
              "      <th>1666</th>\n",
              "      <td>1.242919e+13</td>\n",
              "      <td>5525498</td>\n",
              "      <td>M</td>\n",
              "      <td>2016-03-30 09:16:41+00:00</td>\n",
              "      <td>2016-04-29 00:00:00+00:00</td>\n",
              "      <td>64</td>\n",
              "      <td>SANTA MARTHA</td>\n",
              "      <td>0</td>\n",
              "      <td>1</td>\n",
              "      <td>0</td>\n",
              "      <td>1</td>\n",
              "      <td>2</td>\n",
              "      <td>0</td>\n",
              "      <td>No</td>\n",
              "    </tr>\n",
              "    <tr>\n",
              "      <th>2071</th>\n",
              "      <td>1.242919e+13</td>\n",
              "      <td>5640120</td>\n",
              "      <td>M</td>\n",
              "      <td>2016-04-29 10:08:48+00:00</td>\n",
              "      <td>2016-04-29 00:00:00+00:00</td>\n",
              "      <td>64</td>\n",
              "      <td>SANTA MARTHA</td>\n",
              "      <td>0</td>\n",
              "      <td>1</td>\n",
              "      <td>0</td>\n",
              "      <td>1</td>\n",
              "      <td>2</td>\n",
              "      <td>0</td>\n",
              "      <td>No</td>\n",
              "    </tr>\n",
              "    <tr>\n",
              "      <th>2091</th>\n",
              "      <td>1.491829e+13</td>\n",
              "      <td>5638626</td>\n",
              "      <td>F</td>\n",
              "      <td>2016-04-29 08:13:59+00:00</td>\n",
              "      <td>2016-04-29 00:00:00+00:00</td>\n",
              "      <td>11</td>\n",
              "      <td>ANDORINHAS</td>\n",
              "      <td>0</td>\n",
              "      <td>0</td>\n",
              "      <td>0</td>\n",
              "      <td>0</td>\n",
              "      <td>2</td>\n",
              "      <td>0</td>\n",
              "      <td>No</td>\n",
              "    </tr>\n",
              "  </tbody>\n",
              "</table>\n",
              "</div>"
            ],
            "text/plain": [
              "         patientid  appointmentid gender              scheduledday  \\\n",
              "946   7.282582e+13        5582483      M 2016-04-14 09:26:08+00:00   \n",
              "1665  1.242919e+13        5525497      M 2016-03-30 09:16:41+00:00   \n",
              "1666  1.242919e+13        5525498      M 2016-03-30 09:16:41+00:00   \n",
              "2071  1.242919e+13        5640120      M 2016-04-29 10:08:48+00:00   \n",
              "2091  1.491829e+13        5638626      F 2016-04-29 08:13:59+00:00   \n",
              "\n",
              "                appointmentday  age neighbourhood  scholarship  hipertension  \\\n",
              "946  2016-04-29 00:00:00+00:00   94    BELA VISTA            0             1   \n",
              "1665 2016-04-29 00:00:00+00:00   64  SANTA MARTHA            0             1   \n",
              "1666 2016-04-29 00:00:00+00:00   64  SANTA MARTHA            0             1   \n",
              "2071 2016-04-29 00:00:00+00:00   64  SANTA MARTHA            0             1   \n",
              "2091 2016-04-29 00:00:00+00:00   11    ANDORINHAS            0             0   \n",
              "\n",
              "      diabetes  alcoholism  handcap  sms_received no-show  \n",
              "946          1           0        2             1      No  \n",
              "1665         0           1        2             1      No  \n",
              "1666         0           1        2             0      No  \n",
              "2071         0           1        2             0      No  \n",
              "2091         0           0        2             0      No  "
            ]
          },
          "execution_count": 16,
          "metadata": {},
          "output_type": "execute_result"
        }
      ],
      "source": [
        "#To check for the values for the handicap column\n",
        "hand = df[df['handcap'] > 1]\n",
        "df.loc[ df['handcap'] > 1, 'handcap'] =1\n",
        "hand.head()"
      ]
    },
    {
      "cell_type": "code",
      "execution_count": null,
      "metadata": {
        "id": "9aYFbMixjqXU"
      },
      "outputs": [],
      "source": [
        "#To drop columns that is not needed for the analysis\n",
        "df.drop(['patientid','appointmentid','gender','scheduledday','appointmentday','neighbourhood','hipertension','diabetes','alcoholism','sms_received'],axis=1,inplace=True)"
      ]
    },
    {
      "cell_type": "code",
      "execution_count": null,
      "metadata": {
        "id": "NXtpgLp7jqXU",
        "outputId": "17d018fe-299c-4069-b8fa-b867472a7f83"
      },
      "outputs": [
        {
          "data": {
            "text/html": [
              "<div>\n",
              "<style scoped>\n",
              "    .dataframe tbody tr th:only-of-type {\n",
              "        vertical-align: middle;\n",
              "    }\n",
              "\n",
              "    .dataframe tbody tr th {\n",
              "        vertical-align: top;\n",
              "    }\n",
              "\n",
              "    .dataframe thead th {\n",
              "        text-align: right;\n",
              "    }\n",
              "</style>\n",
              "<table border=\"1\" class=\"dataframe\">\n",
              "  <thead>\n",
              "    <tr style=\"text-align: right;\">\n",
              "      <th></th>\n",
              "      <th>age</th>\n",
              "      <th>scholarship</th>\n",
              "      <th>handcap</th>\n",
              "      <th>no-show</th>\n",
              "    </tr>\n",
              "  </thead>\n",
              "  <tbody>\n",
              "    <tr>\n",
              "      <th>0</th>\n",
              "      <td>62</td>\n",
              "      <td>0</td>\n",
              "      <td>0</td>\n",
              "      <td>No</td>\n",
              "    </tr>\n",
              "    <tr>\n",
              "      <th>1</th>\n",
              "      <td>56</td>\n",
              "      <td>0</td>\n",
              "      <td>0</td>\n",
              "      <td>No</td>\n",
              "    </tr>\n",
              "    <tr>\n",
              "      <th>2</th>\n",
              "      <td>62</td>\n",
              "      <td>0</td>\n",
              "      <td>0</td>\n",
              "      <td>No</td>\n",
              "    </tr>\n",
              "    <tr>\n",
              "      <th>3</th>\n",
              "      <td>8</td>\n",
              "      <td>0</td>\n",
              "      <td>0</td>\n",
              "      <td>No</td>\n",
              "    </tr>\n",
              "    <tr>\n",
              "      <th>4</th>\n",
              "      <td>56</td>\n",
              "      <td>0</td>\n",
              "      <td>0</td>\n",
              "      <td>No</td>\n",
              "    </tr>\n",
              "  </tbody>\n",
              "</table>\n",
              "</div>"
            ],
            "text/plain": [
              "   age  scholarship  handcap no-show\n",
              "0   62            0        0      No\n",
              "1   56            0        0      No\n",
              "2   62            0        0      No\n",
              "3    8            0        0      No\n",
              "4   56            0        0      No"
            ]
          },
          "execution_count": 18,
          "metadata": {},
          "output_type": "execute_result"
        }
      ],
      "source": [
        "df.head()"
      ]
    },
    {
      "cell_type": "code",
      "execution_count": null,
      "metadata": {
        "id": "U8r3ELZvjqXV",
        "outputId": "326eaaa7-0c50-4db7-a316-2239fdf737d1"
      },
      "outputs": [
        {
          "data": {
            "text/html": [
              "<div>\n",
              "<style scoped>\n",
              "    .dataframe tbody tr th:only-of-type {\n",
              "        vertical-align: middle;\n",
              "    }\n",
              "\n",
              "    .dataframe tbody tr th {\n",
              "        vertical-align: top;\n",
              "    }\n",
              "\n",
              "    .dataframe thead th {\n",
              "        text-align: right;\n",
              "    }\n",
              "</style>\n",
              "<table border=\"1\" class=\"dataframe\">\n",
              "  <thead>\n",
              "    <tr style=\"text-align: right;\">\n",
              "      <th></th>\n",
              "      <th>age</th>\n",
              "      <th>scholarship</th>\n",
              "      <th>handcap</th>\n",
              "      <th>no-show</th>\n",
              "    </tr>\n",
              "  </thead>\n",
              "  <tbody>\n",
              "    <tr>\n",
              "      <th>0</th>\n",
              "      <td>62</td>\n",
              "      <td>0</td>\n",
              "      <td>0</td>\n",
              "      <td>0</td>\n",
              "    </tr>\n",
              "    <tr>\n",
              "      <th>1</th>\n",
              "      <td>56</td>\n",
              "      <td>0</td>\n",
              "      <td>0</td>\n",
              "      <td>0</td>\n",
              "    </tr>\n",
              "    <tr>\n",
              "      <th>2</th>\n",
              "      <td>62</td>\n",
              "      <td>0</td>\n",
              "      <td>0</td>\n",
              "      <td>0</td>\n",
              "    </tr>\n",
              "    <tr>\n",
              "      <th>3</th>\n",
              "      <td>8</td>\n",
              "      <td>0</td>\n",
              "      <td>0</td>\n",
              "      <td>0</td>\n",
              "    </tr>\n",
              "    <tr>\n",
              "      <th>4</th>\n",
              "      <td>56</td>\n",
              "      <td>0</td>\n",
              "      <td>0</td>\n",
              "      <td>0</td>\n",
              "    </tr>\n",
              "  </tbody>\n",
              "</table>\n",
              "</div>"
            ],
            "text/plain": [
              "   age  scholarship  handcap  no-show\n",
              "0   62            0        0        0\n",
              "1   56            0        0        0\n",
              "2   62            0        0        0\n",
              "3    8            0        0        0\n",
              "4   56            0        0        0"
            ]
          },
          "execution_count": 19,
          "metadata": {},
          "output_type": "execute_result"
        }
      ],
      "source": [
        "#To change the datatype of the no_show column \n",
        "df.loc[ df['no-show']=='Yes','no-show'] =1\n",
        "df.loc[ df['no-show']=='No','no-show'] =0\n",
        "df.head()\n"
      ]
    },
    {
      "cell_type": "code",
      "execution_count": null,
      "metadata": {
        "id": "jDLKS_USjqXV",
        "outputId": "122d1bda-c211-4436-e156-8c3e0f1f0da8"
      },
      "outputs": [
        {
          "data": {
            "text/plain": [
              "Index(['age', 'scholarship', 'handcap', 'no_show'], dtype='object')"
            ]
          },
          "execution_count": 20,
          "metadata": {},
          "output_type": "execute_result"
        }
      ],
      "source": [
        "#To rename the no-show column\n",
        "df.rename(columns={'no-show':'no_show'},inplace=True)\n",
        "df.columns\n"
      ]
    },
    {
      "cell_type": "markdown",
      "metadata": {
        "id": "5oTpIyBOjqXW"
      },
      "source": [
        "During the course of wrangling the data set whichi involves to gather,assess, and cleaning:\n",
        "i first installed the specified and upgrade version for pandas according the specified instructions from udacity,then import the various packages pandas,numpy and matploblib which will be needed for the research analysis for the chosen dataset,i then load the dataset no-show for Appointmemnt into the wokrspace notebook in the csv.format.the assessing process was carried out which includes;checking for the size of the entire dataset to know how many columns and rows is in it,then the datatypes present in the entire set was checked this is to ensure to convert from one type to another to ensure analysing is efficient and converting a particular datatypes from object to integers.the statistics of each column was checked to know in details of each data set. futhermore, empty values was checked to ensure the data set is free from any empty values which may bring about error during analysis process.duplicate values was also checked to accross the dataset to ensure no values was duplicated,duplicate values was dropped.The correct datetime for scheduledday and appointmentday was set to which is a cleaning process.The entire columns name was changed from uppercase to lower case call to funcvtion when writing the codes for the research proess and since its case sensitive.negative value was checked for under age column and dropped and also the handicap column was queried to know if its in 0 and 1 which signifies being handicapped or not and the error gotten was dropped which was 4.Lastly, the columns that was not needed for the research question was dropped and the no_show column ws coverted from object to integers to signify patients that show up or not for their appointments and not yes or no which will be cumbersome to wokr with. The entire process above describes step by step procesws of the data wrangling process which proceeded by the exploratoive data analysis."
      ]
    },
    {
      "cell_type": "markdown",
      "metadata": {
        "id": "BK6GfAT2jqXX"
      },
      "source": [
        "\n",
        "## Exploratory Data Analysis\n"
      ]
    },
    {
      "cell_type": "code",
      "execution_count": null,
      "metadata": {
        "scrolled": false,
        "id": "8KwhXSMjjqXX"
      },
      "outputs": [],
      "source": [
        "#EXPLORATORY DATA ANALYSIS"
      ]
    },
    {
      "cell_type": "code",
      "execution_count": null,
      "metadata": {
        "id": "UE-Csr95jqXY",
        "outputId": "4319baaf-1e72-4307-b676-a668aecafcac"
      },
      "outputs": [
        {
          "data": {
            "image/png": "[encoded data removed]",
            "text/plain": [
              "<matplotlib.figure.Figure at 0x7f4a7035fac8>"
            ]
          },
          "metadata": {
            "needs_background": "light"
          },
          "output_type": "display_data"
        }
      ],
      "source": [
        "#to visualise all the chosen data using histogram\n",
        "df.hist(figsize = (16,8));"
      ]
    },
    {
      "cell_type": "markdown",
      "metadata": {
        "id": "lmaKMOgRjqXY"
      },
      "source": [
        "The visualisation above shows the distribution of my chosen data for the research in a form of summary, and gives a presentation of how each data set looks like before the research question will be investigated and visualised."
      ]
    },
    {
      "cell_type": "markdown",
      "metadata": {
        "id": "z-bzKbBijqXY"
      },
      "source": [
        "# Question1. How does Agegroup Affects Whether the Patients show up for their Appointment or Not(Over 18 and  Under 18)?"
      ]
    },
    {
      "cell_type": "code",
      "execution_count": null,
      "metadata": {
        "id": "BlChZ5WujqXZ"
      },
      "outputs": [],
      "source": [
        "#To create a new column for the agegroup\n",
        "bins = [0,18,120]\n",
        "labels = ['under18','over18']\n",
        "df['agegroup'] = pd.cut(df['age'], bins, labels = labels, right = False)"
      ]
    },
    {
      "cell_type": "code",
      "execution_count": null,
      "metadata": {
        "id": "1AIbDKuDjqXZ",
        "outputId": "dd2ca258-a15f-4600-b98e-7c0f2c586603"
      },
      "outputs": [
        {
          "data": {
            "text/html": [
              "<div>\n",
              "<style scoped>\n",
              "    .dataframe tbody tr th:only-of-type {\n",
              "        vertical-align: middle;\n",
              "    }\n",
              "\n",
              "    .dataframe tbody tr th {\n",
              "        vertical-align: top;\n",
              "    }\n",
              "\n",
              "    .dataframe thead th {\n",
              "        text-align: right;\n",
              "    }\n",
              "</style>\n",
              "<table border=\"1\" class=\"dataframe\">\n",
              "  <thead>\n",
              "    <tr style=\"text-align: right;\">\n",
              "      <th></th>\n",
              "      <th>age</th>\n",
              "      <th>scholarship</th>\n",
              "      <th>handcap</th>\n",
              "      <th>no_show</th>\n",
              "      <th>agegroup</th>\n",
              "    </tr>\n",
              "  </thead>\n",
              "  <tbody>\n",
              "    <tr>\n",
              "      <th>0</th>\n",
              "      <td>62</td>\n",
              "      <td>0</td>\n",
              "      <td>0</td>\n",
              "      <td>0</td>\n",
              "      <td>over18</td>\n",
              "    </tr>\n",
              "    <tr>\n",
              "      <th>1</th>\n",
              "      <td>56</td>\n",
              "      <td>0</td>\n",
              "      <td>0</td>\n",
              "      <td>0</td>\n",
              "      <td>over18</td>\n",
              "    </tr>\n",
              "    <tr>\n",
              "      <th>2</th>\n",
              "      <td>62</td>\n",
              "      <td>0</td>\n",
              "      <td>0</td>\n",
              "      <td>0</td>\n",
              "      <td>over18</td>\n",
              "    </tr>\n",
              "    <tr>\n",
              "      <th>3</th>\n",
              "      <td>8</td>\n",
              "      <td>0</td>\n",
              "      <td>0</td>\n",
              "      <td>0</td>\n",
              "      <td>under18</td>\n",
              "    </tr>\n",
              "    <tr>\n",
              "      <th>4</th>\n",
              "      <td>56</td>\n",
              "      <td>0</td>\n",
              "      <td>0</td>\n",
              "      <td>0</td>\n",
              "      <td>over18</td>\n",
              "    </tr>\n",
              "  </tbody>\n",
              "</table>\n",
              "</div>"
            ],
            "text/plain": [
              "   age  scholarship  handcap  no_show agegroup\n",
              "0   62            0        0        0   over18\n",
              "1   56            0        0        0   over18\n",
              "2   62            0        0        0   over18\n",
              "3    8            0        0        0  under18\n",
              "4   56            0        0        0   over18"
            ]
          },
          "execution_count": 24,
          "metadata": {},
          "output_type": "execute_result"
        }
      ],
      "source": [
        "df.head()"
      ]
    },
    {
      "cell_type": "code",
      "execution_count": null,
      "metadata": {
        "id": "rzKiQduZjqXZ",
        "outputId": "921419f0-796b-468d-c1ed-d7bb99106e64"
      },
      "outputs": [
        {
          "data": {
            "text/plain": [
              "agegroup  no_show\n",
              "under18   0          21382\n",
              "          1           5997\n",
              "over18    0          66825\n",
              "          1          16322\n",
              "Name: no_show, dtype: int64"
            ]
          },
          "execution_count": 25,
          "metadata": {},
          "output_type": "execute_result"
        }
      ],
      "source": [
        "#value count for the agegroup\n",
        "df_agegroup = df.groupby('agegroup')['no_show'].value_counts() \n",
        "df_agegroup"
      ]
    },
    {
      "cell_type": "code",
      "execution_count": null,
      "metadata": {
        "id": "hhehehVdjqXa"
      },
      "outputs": [],
      "source": [
        "#To count the values for the agegroup based on the index(over 18 and under 18)\n",
        "df_over18 = df.query('no_show ==1')\n",
        "df_under18 = df.query('no_show ==0')"
      ]
    },
    {
      "cell_type": "code",
      "execution_count": null,
      "metadata": {
        "id": "eD7SV2zkjqXa",
        "outputId": "33baa443-a180-4ce7-9e63-a649fcb96247"
      },
      "outputs": [
        {
          "data": {
            "text/plain": [
              "agegroup  no_show\n",
              "under18   0          21382\n",
              "          1           5997\n",
              "over18    0          66825\n",
              "          1          16322\n",
              "Name: no_show, dtype: int64"
            ]
          },
          "execution_count": 27,
          "metadata": {},
          "output_type": "execute_result"
        }
      ],
      "source": [
        "df_agegroup"
      ]
    },
    {
      "cell_type": "code",
      "execution_count": null,
      "metadata": {
        "id": "vgf1gP7RjqXb"
      },
      "outputs": [],
      "source": [
        "#To create a new data frme for over 18 and under 18\n",
        "df_show = df.query('no_show == 1')\n",
        "\n",
        "df_noshow = df.query('no_show == 0')"
      ]
    },
    {
      "cell_type": "code",
      "execution_count": null,
      "metadata": {
        "id": "Fj7S6H91jqXc",
        "outputId": "69efeff9-9d92-4321-9cf5-f49cc979d2d5"
      },
      "outputs": [
        {
          "data": {
            "text/html": [
              "<div>\n",
              "<style scoped>\n",
              "    .dataframe tbody tr th:only-of-type {\n",
              "        vertical-align: middle;\n",
              "    }\n",
              "\n",
              "    .dataframe tbody tr th {\n",
              "        vertical-align: top;\n",
              "    }\n",
              "\n",
              "    .dataframe thead th {\n",
              "        text-align: right;\n",
              "    }\n",
              "</style>\n",
              "<table border=\"1\" class=\"dataframe\">\n",
              "  <thead>\n",
              "    <tr style=\"text-align: right;\">\n",
              "      <th></th>\n",
              "      <th>age</th>\n",
              "      <th>scholarship</th>\n",
              "      <th>handcap</th>\n",
              "      <th>no_show</th>\n",
              "      <th>agegroup</th>\n",
              "    </tr>\n",
              "  </thead>\n",
              "  <tbody>\n",
              "    <tr>\n",
              "      <th>6</th>\n",
              "      <td>23</td>\n",
              "      <td>0</td>\n",
              "      <td>0</td>\n",
              "      <td>1</td>\n",
              "      <td>over18</td>\n",
              "    </tr>\n",
              "    <tr>\n",
              "      <th>7</th>\n",
              "      <td>39</td>\n",
              "      <td>0</td>\n",
              "      <td>0</td>\n",
              "      <td>1</td>\n",
              "      <td>over18</td>\n",
              "    </tr>\n",
              "    <tr>\n",
              "      <th>11</th>\n",
              "      <td>29</td>\n",
              "      <td>0</td>\n",
              "      <td>0</td>\n",
              "      <td>1</td>\n",
              "      <td>over18</td>\n",
              "    </tr>\n",
              "    <tr>\n",
              "      <th>17</th>\n",
              "      <td>40</td>\n",
              "      <td>1</td>\n",
              "      <td>0</td>\n",
              "      <td>1</td>\n",
              "      <td>over18</td>\n",
              "    </tr>\n",
              "    <tr>\n",
              "      <th>20</th>\n",
              "      <td>30</td>\n",
              "      <td>0</td>\n",
              "      <td>0</td>\n",
              "      <td>1</td>\n",
              "      <td>over18</td>\n",
              "    </tr>\n",
              "    <tr>\n",
              "      <th>21</th>\n",
              "      <td>4</td>\n",
              "      <td>0</td>\n",
              "      <td>0</td>\n",
              "      <td>1</td>\n",
              "      <td>under18</td>\n",
              "    </tr>\n",
              "    <tr>\n",
              "      <th>22</th>\n",
              "      <td>13</td>\n",
              "      <td>0</td>\n",
              "      <td>0</td>\n",
              "      <td>1</td>\n",
              "      <td>under18</td>\n",
              "    </tr>\n",
              "    <tr>\n",
              "      <th>31</th>\n",
              "      <td>12</td>\n",
              "      <td>1</td>\n",
              "      <td>0</td>\n",
              "      <td>1</td>\n",
              "      <td>under18</td>\n",
              "    </tr>\n",
              "    <tr>\n",
              "      <th>44</th>\n",
              "      <td>78</td>\n",
              "      <td>0</td>\n",
              "      <td>0</td>\n",
              "      <td>1</td>\n",
              "      <td>over18</td>\n",
              "    </tr>\n",
              "    <tr>\n",
              "      <th>48</th>\n",
              "      <td>58</td>\n",
              "      <td>0</td>\n",
              "      <td>0</td>\n",
              "      <td>1</td>\n",
              "      <td>over18</td>\n",
              "    </tr>\n",
              "    <tr>\n",
              "      <th>49</th>\n",
              "      <td>27</td>\n",
              "      <td>0</td>\n",
              "      <td>0</td>\n",
              "      <td>1</td>\n",
              "      <td>over18</td>\n",
              "    </tr>\n",
              "    <tr>\n",
              "      <th>50</th>\n",
              "      <td>19</td>\n",
              "      <td>0</td>\n",
              "      <td>0</td>\n",
              "      <td>1</td>\n",
              "      <td>over18</td>\n",
              "    </tr>\n",
              "    <tr>\n",
              "      <th>51</th>\n",
              "      <td>23</td>\n",
              "      <td>1</td>\n",
              "      <td>0</td>\n",
              "      <td>1</td>\n",
              "      <td>over18</td>\n",
              "    </tr>\n",
              "    <tr>\n",
              "      <th>52</th>\n",
              "      <td>23</td>\n",
              "      <td>1</td>\n",
              "      <td>0</td>\n",
              "      <td>1</td>\n",
              "      <td>over18</td>\n",
              "    </tr>\n",
              "    <tr>\n",
              "      <th>56</th>\n",
              "      <td>12</td>\n",
              "      <td>0</td>\n",
              "      <td>0</td>\n",
              "      <td>1</td>\n",
              "      <td>under18</td>\n",
              "    </tr>\n",
              "    <tr>\n",
              "      <th>61</th>\n",
              "      <td>2</td>\n",
              "      <td>0</td>\n",
              "      <td>0</td>\n",
              "      <td>1</td>\n",
              "      <td>under18</td>\n",
              "    </tr>\n",
              "    <tr>\n",
              "      <th>76</th>\n",
              "      <td>28</td>\n",
              "      <td>0</td>\n",
              "      <td>0</td>\n",
              "      <td>1</td>\n",
              "      <td>over18</td>\n",
              "    </tr>\n",
              "    <tr>\n",
              "      <th>79</th>\n",
              "      <td>67</td>\n",
              "      <td>0</td>\n",
              "      <td>0</td>\n",
              "      <td>1</td>\n",
              "      <td>over18</td>\n",
              "    </tr>\n",
              "    <tr>\n",
              "      <th>90</th>\n",
              "      <td>11</td>\n",
              "      <td>0</td>\n",
              "      <td>0</td>\n",
              "      <td>1</td>\n",
              "      <td>under18</td>\n",
              "    </tr>\n",
              "    <tr>\n",
              "      <th>104</th>\n",
              "      <td>0</td>\n",
              "      <td>0</td>\n",
              "      <td>0</td>\n",
              "      <td>1</td>\n",
              "      <td>under18</td>\n",
              "    </tr>\n",
              "    <tr>\n",
              "      <th>107</th>\n",
              "      <td>26</td>\n",
              "      <td>0</td>\n",
              "      <td>0</td>\n",
              "      <td>1</td>\n",
              "      <td>over18</td>\n",
              "    </tr>\n",
              "    <tr>\n",
              "      <th>116</th>\n",
              "      <td>18</td>\n",
              "      <td>0</td>\n",
              "      <td>0</td>\n",
              "      <td>1</td>\n",
              "      <td>over18</td>\n",
              "    </tr>\n",
              "    <tr>\n",
              "      <th>123</th>\n",
              "      <td>31</td>\n",
              "      <td>1</td>\n",
              "      <td>0</td>\n",
              "      <td>1</td>\n",
              "      <td>over18</td>\n",
              "    </tr>\n",
              "    <tr>\n",
              "      <th>126</th>\n",
              "      <td>67</td>\n",
              "      <td>0</td>\n",
              "      <td>0</td>\n",
              "      <td>1</td>\n",
              "      <td>over18</td>\n",
              "    </tr>\n",
              "    <tr>\n",
              "      <th>128</th>\n",
              "      <td>34</td>\n",
              "      <td>1</td>\n",
              "      <td>0</td>\n",
              "      <td>1</td>\n",
              "      <td>over18</td>\n",
              "    </tr>\n",
              "    <tr>\n",
              "      <th>129</th>\n",
              "      <td>22</td>\n",
              "      <td>0</td>\n",
              "      <td>0</td>\n",
              "      <td>1</td>\n",
              "      <td>over18</td>\n",
              "    </tr>\n",
              "    <tr>\n",
              "      <th>131</th>\n",
              "      <td>29</td>\n",
              "      <td>0</td>\n",
              "      <td>0</td>\n",
              "      <td>1</td>\n",
              "      <td>over18</td>\n",
              "    </tr>\n",
              "    <tr>\n",
              "      <th>132</th>\n",
              "      <td>0</td>\n",
              "      <td>0</td>\n",
              "      <td>0</td>\n",
              "      <td>1</td>\n",
              "      <td>under18</td>\n",
              "    </tr>\n",
              "    <tr>\n",
              "      <th>135</th>\n",
              "      <td>30</td>\n",
              "      <td>0</td>\n",
              "      <td>0</td>\n",
              "      <td>1</td>\n",
              "      <td>over18</td>\n",
              "    </tr>\n",
              "    <tr>\n",
              "      <th>136</th>\n",
              "      <td>33</td>\n",
              "      <td>1</td>\n",
              "      <td>0</td>\n",
              "      <td>1</td>\n",
              "      <td>over18</td>\n",
              "    </tr>\n",
              "    <tr>\n",
              "      <th>...</th>\n",
              "      <td>...</td>\n",
              "      <td>...</td>\n",
              "      <td>...</td>\n",
              "      <td>...</td>\n",
              "      <td>...</td>\n",
              "    </tr>\n",
              "    <tr>\n",
              "      <th>110383</th>\n",
              "      <td>48</td>\n",
              "      <td>0</td>\n",
              "      <td>0</td>\n",
              "      <td>1</td>\n",
              "      <td>over18</td>\n",
              "    </tr>\n",
              "    <tr>\n",
              "      <th>110385</th>\n",
              "      <td>23</td>\n",
              "      <td>0</td>\n",
              "      <td>0</td>\n",
              "      <td>1</td>\n",
              "      <td>over18</td>\n",
              "    </tr>\n",
              "    <tr>\n",
              "      <th>110386</th>\n",
              "      <td>48</td>\n",
              "      <td>0</td>\n",
              "      <td>0</td>\n",
              "      <td>1</td>\n",
              "      <td>over18</td>\n",
              "    </tr>\n",
              "    <tr>\n",
              "      <th>110391</th>\n",
              "      <td>19</td>\n",
              "      <td>0</td>\n",
              "      <td>0</td>\n",
              "      <td>1</td>\n",
              "      <td>over18</td>\n",
              "    </tr>\n",
              "    <tr>\n",
              "      <th>110392</th>\n",
              "      <td>38</td>\n",
              "      <td>0</td>\n",
              "      <td>0</td>\n",
              "      <td>1</td>\n",
              "      <td>over18</td>\n",
              "    </tr>\n",
              "    <tr>\n",
              "      <th>110394</th>\n",
              "      <td>31</td>\n",
              "      <td>0</td>\n",
              "      <td>0</td>\n",
              "      <td>1</td>\n",
              "      <td>over18</td>\n",
              "    </tr>\n",
              "    <tr>\n",
              "      <th>110399</th>\n",
              "      <td>17</td>\n",
              "      <td>0</td>\n",
              "      <td>0</td>\n",
              "      <td>1</td>\n",
              "      <td>under18</td>\n",
              "    </tr>\n",
              "    <tr>\n",
              "      <th>110400</th>\n",
              "      <td>36</td>\n",
              "      <td>1</td>\n",
              "      <td>0</td>\n",
              "      <td>1</td>\n",
              "      <td>over18</td>\n",
              "    </tr>\n",
              "    <tr>\n",
              "      <th>110401</th>\n",
              "      <td>39</td>\n",
              "      <td>0</td>\n",
              "      <td>0</td>\n",
              "      <td>1</td>\n",
              "      <td>over18</td>\n",
              "    </tr>\n",
              "    <tr>\n",
              "      <th>110402</th>\n",
              "      <td>38</td>\n",
              "      <td>0</td>\n",
              "      <td>0</td>\n",
              "      <td>1</td>\n",
              "      <td>over18</td>\n",
              "    </tr>\n",
              "    <tr>\n",
              "      <th>110405</th>\n",
              "      <td>33</td>\n",
              "      <td>0</td>\n",
              "      <td>0</td>\n",
              "      <td>1</td>\n",
              "      <td>over18</td>\n",
              "    </tr>\n",
              "    <tr>\n",
              "      <th>110415</th>\n",
              "      <td>59</td>\n",
              "      <td>0</td>\n",
              "      <td>0</td>\n",
              "      <td>1</td>\n",
              "      <td>over18</td>\n",
              "    </tr>\n",
              "    <tr>\n",
              "      <th>110420</th>\n",
              "      <td>41</td>\n",
              "      <td>0</td>\n",
              "      <td>0</td>\n",
              "      <td>1</td>\n",
              "      <td>over18</td>\n",
              "    </tr>\n",
              "    <tr>\n",
              "      <th>110428</th>\n",
              "      <td>8</td>\n",
              "      <td>0</td>\n",
              "      <td>0</td>\n",
              "      <td>1</td>\n",
              "      <td>under18</td>\n",
              "    </tr>\n",
              "    <tr>\n",
              "      <th>110429</th>\n",
              "      <td>44</td>\n",
              "      <td>0</td>\n",
              "      <td>0</td>\n",
              "      <td>1</td>\n",
              "      <td>over18</td>\n",
              "    </tr>\n",
              "    <tr>\n",
              "      <th>110430</th>\n",
              "      <td>57</td>\n",
              "      <td>0</td>\n",
              "      <td>0</td>\n",
              "      <td>1</td>\n",
              "      <td>over18</td>\n",
              "    </tr>\n",
              "    <tr>\n",
              "      <th>110431</th>\n",
              "      <td>12</td>\n",
              "      <td>0</td>\n",
              "      <td>0</td>\n",
              "      <td>1</td>\n",
              "      <td>under18</td>\n",
              "    </tr>\n",
              "    <tr>\n",
              "      <th>110432</th>\n",
              "      <td>34</td>\n",
              "      <td>0</td>\n",
              "      <td>0</td>\n",
              "      <td>1</td>\n",
              "      <td>over18</td>\n",
              "    </tr>\n",
              "    <tr>\n",
              "      <th>110442</th>\n",
              "      <td>8</td>\n",
              "      <td>0</td>\n",
              "      <td>0</td>\n",
              "      <td>1</td>\n",
              "      <td>under18</td>\n",
              "    </tr>\n",
              "    <tr>\n",
              "      <th>110449</th>\n",
              "      <td>12</td>\n",
              "      <td>0</td>\n",
              "      <td>0</td>\n",
              "      <td>1</td>\n",
              "      <td>under18</td>\n",
              "    </tr>\n",
              "    <tr>\n",
              "      <th>110461</th>\n",
              "      <td>13</td>\n",
              "      <td>0</td>\n",
              "      <td>0</td>\n",
              "      <td>1</td>\n",
              "      <td>under18</td>\n",
              "    </tr>\n",
              "    <tr>\n",
              "      <th>110469</th>\n",
              "      <td>51</td>\n",
              "      <td>0</td>\n",
              "      <td>0</td>\n",
              "      <td>1</td>\n",
              "      <td>over18</td>\n",
              "    </tr>\n",
              "    <tr>\n",
              "      <th>110470</th>\n",
              "      <td>26</td>\n",
              "      <td>0</td>\n",
              "      <td>0</td>\n",
              "      <td>1</td>\n",
              "      <td>over18</td>\n",
              "    </tr>\n",
              "    <tr>\n",
              "      <th>110479</th>\n",
              "      <td>34</td>\n",
              "      <td>1</td>\n",
              "      <td>0</td>\n",
              "      <td>1</td>\n",
              "      <td>over18</td>\n",
              "    </tr>\n",
              "    <tr>\n",
              "      <th>110482</th>\n",
              "      <td>43</td>\n",
              "      <td>1</td>\n",
              "      <td>0</td>\n",
              "      <td>1</td>\n",
              "      <td>over18</td>\n",
              "    </tr>\n",
              "    <tr>\n",
              "      <th>110484</th>\n",
              "      <td>45</td>\n",
              "      <td>0</td>\n",
              "      <td>0</td>\n",
              "      <td>1</td>\n",
              "      <td>over18</td>\n",
              "    </tr>\n",
              "    <tr>\n",
              "      <th>110492</th>\n",
              "      <td>33</td>\n",
              "      <td>0</td>\n",
              "      <td>0</td>\n",
              "      <td>1</td>\n",
              "      <td>over18</td>\n",
              "    </tr>\n",
              "    <tr>\n",
              "      <th>110496</th>\n",
              "      <td>37</td>\n",
              "      <td>0</td>\n",
              "      <td>0</td>\n",
              "      <td>1</td>\n",
              "      <td>over18</td>\n",
              "    </tr>\n",
              "    <tr>\n",
              "      <th>110515</th>\n",
              "      <td>33</td>\n",
              "      <td>0</td>\n",
              "      <td>0</td>\n",
              "      <td>1</td>\n",
              "      <td>over18</td>\n",
              "    </tr>\n",
              "    <tr>\n",
              "      <th>110516</th>\n",
              "      <td>37</td>\n",
              "      <td>0</td>\n",
              "      <td>0</td>\n",
              "      <td>1</td>\n",
              "      <td>over18</td>\n",
              "    </tr>\n",
              "  </tbody>\n",
              "</table>\n",
              "<p>22319 rows × 5 columns</p>\n",
              "</div>"
            ],
            "text/plain": [
              "        age  scholarship  handcap  no_show agegroup\n",
              "6        23            0        0        1   over18\n",
              "7        39            0        0        1   over18\n",
              "11       29            0        0        1   over18\n",
              "17       40            1        0        1   over18\n",
              "20       30            0        0        1   over18\n",
              "...     ...          ...      ...      ...      ...\n",
              "110484   45            0        0        1   over18\n",
              "110492   33            0        0        1   over18\n",
              "110496   37            0        0        1   over18\n",
              "110515   33            0        0        1   over18\n",
              "110516   37            0        0        1   over18\n",
              "\n",
              "[22319 rows x 5 columns]"
            ]
          },
          "execution_count": 29,
          "metadata": {},
          "output_type": "execute_result"
        }
      ],
      "source": [
        "#To read that dataframe \n",
        "df_show"
      ]
    },
    {
      "cell_type": "code",
      "execution_count": null,
      "metadata": {
        "id": "KyeiJ_JzjqXc",
        "outputId": "e0cc86f6-47ba-4db1-e358-6aa3f057fcb7"
      },
      "outputs": [
        {
          "data": {
            "text/html": [
              "<div>\n",
              "<style scoped>\n",
              "    .dataframe tbody tr th:only-of-type {\n",
              "        vertical-align: middle;\n",
              "    }\n",
              "\n",
              "    .dataframe tbody tr th {\n",
              "        vertical-align: top;\n",
              "    }\n",
              "\n",
              "    .dataframe thead th {\n",
              "        text-align: right;\n",
              "    }\n",
              "</style>\n",
              "<table border=\"1\" class=\"dataframe\">\n",
              "  <thead>\n",
              "    <tr style=\"text-align: right;\">\n",
              "      <th></th>\n",
              "      <th>age</th>\n",
              "      <th>scholarship</th>\n",
              "      <th>handcap</th>\n",
              "      <th>no_show</th>\n",
              "      <th>agegroup</th>\n",
              "    </tr>\n",
              "  </thead>\n",
              "  <tbody>\n",
              "    <tr>\n",
              "      <th>0</th>\n",
              "      <td>62</td>\n",
              "      <td>0</td>\n",
              "      <td>0</td>\n",
              "      <td>0</td>\n",
              "      <td>over18</td>\n",
              "    </tr>\n",
              "    <tr>\n",
              "      <th>1</th>\n",
              "      <td>56</td>\n",
              "      <td>0</td>\n",
              "      <td>0</td>\n",
              "      <td>0</td>\n",
              "      <td>over18</td>\n",
              "    </tr>\n",
              "    <tr>\n",
              "      <th>2</th>\n",
              "      <td>62</td>\n",
              "      <td>0</td>\n",
              "      <td>0</td>\n",
              "      <td>0</td>\n",
              "      <td>over18</td>\n",
              "    </tr>\n",
              "    <tr>\n",
              "      <th>3</th>\n",
              "      <td>8</td>\n",
              "      <td>0</td>\n",
              "      <td>0</td>\n",
              "      <td>0</td>\n",
              "      <td>under18</td>\n",
              "    </tr>\n",
              "    <tr>\n",
              "      <th>4</th>\n",
              "      <td>56</td>\n",
              "      <td>0</td>\n",
              "      <td>0</td>\n",
              "      <td>0</td>\n",
              "      <td>over18</td>\n",
              "    </tr>\n",
              "    <tr>\n",
              "      <th>5</th>\n",
              "      <td>76</td>\n",
              "      <td>0</td>\n",
              "      <td>0</td>\n",
              "      <td>0</td>\n",
              "      <td>over18</td>\n",
              "    </tr>\n",
              "    <tr>\n",
              "      <th>8</th>\n",
              "      <td>21</td>\n",
              "      <td>0</td>\n",
              "      <td>0</td>\n",
              "      <td>0</td>\n",
              "      <td>over18</td>\n",
              "    </tr>\n",
              "    <tr>\n",
              "      <th>9</th>\n",
              "      <td>19</td>\n",
              "      <td>0</td>\n",
              "      <td>0</td>\n",
              "      <td>0</td>\n",
              "      <td>over18</td>\n",
              "    </tr>\n",
              "    <tr>\n",
              "      <th>10</th>\n",
              "      <td>30</td>\n",
              "      <td>0</td>\n",
              "      <td>0</td>\n",
              "      <td>0</td>\n",
              "      <td>over18</td>\n",
              "    </tr>\n",
              "    <tr>\n",
              "      <th>12</th>\n",
              "      <td>22</td>\n",
              "      <td>1</td>\n",
              "      <td>0</td>\n",
              "      <td>0</td>\n",
              "      <td>over18</td>\n",
              "    </tr>\n",
              "    <tr>\n",
              "      <th>13</th>\n",
              "      <td>28</td>\n",
              "      <td>0</td>\n",
              "      <td>0</td>\n",
              "      <td>0</td>\n",
              "      <td>over18</td>\n",
              "    </tr>\n",
              "    <tr>\n",
              "      <th>14</th>\n",
              "      <td>54</td>\n",
              "      <td>0</td>\n",
              "      <td>0</td>\n",
              "      <td>0</td>\n",
              "      <td>over18</td>\n",
              "    </tr>\n",
              "    <tr>\n",
              "      <th>15</th>\n",
              "      <td>15</td>\n",
              "      <td>0</td>\n",
              "      <td>0</td>\n",
              "      <td>0</td>\n",
              "      <td>under18</td>\n",
              "    </tr>\n",
              "    <tr>\n",
              "      <th>16</th>\n",
              "      <td>50</td>\n",
              "      <td>0</td>\n",
              "      <td>0</td>\n",
              "      <td>0</td>\n",
              "      <td>over18</td>\n",
              "    </tr>\n",
              "    <tr>\n",
              "      <th>18</th>\n",
              "      <td>30</td>\n",
              "      <td>1</td>\n",
              "      <td>0</td>\n",
              "      <td>0</td>\n",
              "      <td>over18</td>\n",
              "    </tr>\n",
              "    <tr>\n",
              "      <th>19</th>\n",
              "      <td>46</td>\n",
              "      <td>0</td>\n",
              "      <td>0</td>\n",
              "      <td>0</td>\n",
              "      <td>over18</td>\n",
              "    </tr>\n",
              "    <tr>\n",
              "      <th>23</th>\n",
              "      <td>46</td>\n",
              "      <td>0</td>\n",
              "      <td>0</td>\n",
              "      <td>0</td>\n",
              "      <td>over18</td>\n",
              "    </tr>\n",
              "    <tr>\n",
              "      <th>24</th>\n",
              "      <td>65</td>\n",
              "      <td>0</td>\n",
              "      <td>0</td>\n",
              "      <td>0</td>\n",
              "      <td>over18</td>\n",
              "    </tr>\n",
              "    <tr>\n",
              "      <th>25</th>\n",
              "      <td>46</td>\n",
              "      <td>0</td>\n",
              "      <td>0</td>\n",
              "      <td>0</td>\n",
              "      <td>over18</td>\n",
              "    </tr>\n",
              "    <tr>\n",
              "      <th>26</th>\n",
              "      <td>45</td>\n",
              "      <td>0</td>\n",
              "      <td>0</td>\n",
              "      <td>0</td>\n",
              "      <td>over18</td>\n",
              "    </tr>\n",
              "    <tr>\n",
              "      <th>27</th>\n",
              "      <td>4</td>\n",
              "      <td>0</td>\n",
              "      <td>0</td>\n",
              "      <td>0</td>\n",
              "      <td>under18</td>\n",
              "    </tr>\n",
              "    <tr>\n",
              "      <th>28</th>\n",
              "      <td>51</td>\n",
              "      <td>0</td>\n",
              "      <td>0</td>\n",
              "      <td>0</td>\n",
              "      <td>over18</td>\n",
              "    </tr>\n",
              "    <tr>\n",
              "      <th>29</th>\n",
              "      <td>32</td>\n",
              "      <td>0</td>\n",
              "      <td>0</td>\n",
              "      <td>0</td>\n",
              "      <td>over18</td>\n",
              "    </tr>\n",
              "    <tr>\n",
              "      <th>30</th>\n",
              "      <td>46</td>\n",
              "      <td>0</td>\n",
              "      <td>0</td>\n",
              "      <td>0</td>\n",
              "      <td>over18</td>\n",
              "    </tr>\n",
              "    <tr>\n",
              "      <th>32</th>\n",
              "      <td>61</td>\n",
              "      <td>0</td>\n",
              "      <td>0</td>\n",
              "      <td>0</td>\n",
              "      <td>over18</td>\n",
              "    </tr>\n",
              "    <tr>\n",
              "      <th>33</th>\n",
              "      <td>38</td>\n",
              "      <td>1</td>\n",
              "      <td>0</td>\n",
              "      <td>0</td>\n",
              "      <td>over18</td>\n",
              "    </tr>\n",
              "    <tr>\n",
              "      <th>34</th>\n",
              "      <td>79</td>\n",
              "      <td>0</td>\n",
              "      <td>0</td>\n",
              "      <td>0</td>\n",
              "      <td>over18</td>\n",
              "    </tr>\n",
              "    <tr>\n",
              "      <th>35</th>\n",
              "      <td>18</td>\n",
              "      <td>0</td>\n",
              "      <td>0</td>\n",
              "      <td>0</td>\n",
              "      <td>over18</td>\n",
              "    </tr>\n",
              "    <tr>\n",
              "      <th>36</th>\n",
              "      <td>63</td>\n",
              "      <td>0</td>\n",
              "      <td>0</td>\n",
              "      <td>0</td>\n",
              "      <td>over18</td>\n",
              "    </tr>\n",
              "    <tr>\n",
              "      <th>37</th>\n",
              "      <td>64</td>\n",
              "      <td>1</td>\n",
              "      <td>0</td>\n",
              "      <td>0</td>\n",
              "      <td>over18</td>\n",
              "    </tr>\n",
              "    <tr>\n",
              "      <th>...</th>\n",
              "      <td>...</td>\n",
              "      <td>...</td>\n",
              "      <td>...</td>\n",
              "      <td>...</td>\n",
              "      <td>...</td>\n",
              "    </tr>\n",
              "    <tr>\n",
              "      <th>110494</th>\n",
              "      <td>38</td>\n",
              "      <td>0</td>\n",
              "      <td>0</td>\n",
              "      <td>0</td>\n",
              "      <td>over18</td>\n",
              "    </tr>\n",
              "    <tr>\n",
              "      <th>110495</th>\n",
              "      <td>40</td>\n",
              "      <td>0</td>\n",
              "      <td>0</td>\n",
              "      <td>0</td>\n",
              "      <td>over18</td>\n",
              "    </tr>\n",
              "    <tr>\n",
              "      <th>110497</th>\n",
              "      <td>76</td>\n",
              "      <td>0</td>\n",
              "      <td>0</td>\n",
              "      <td>0</td>\n",
              "      <td>over18</td>\n",
              "    </tr>\n",
              "    <tr>\n",
              "      <th>110498</th>\n",
              "      <td>59</td>\n",
              "      <td>0</td>\n",
              "      <td>0</td>\n",
              "      <td>0</td>\n",
              "      <td>over18</td>\n",
              "    </tr>\n",
              "    <tr>\n",
              "      <th>110499</th>\n",
              "      <td>66</td>\n",
              "      <td>0</td>\n",
              "      <td>0</td>\n",
              "      <td>0</td>\n",
              "      <td>over18</td>\n",
              "    </tr>\n",
              "    <tr>\n",
              "      <th>110500</th>\n",
              "      <td>59</td>\n",
              "      <td>0</td>\n",
              "      <td>0</td>\n",
              "      <td>0</td>\n",
              "      <td>over18</td>\n",
              "    </tr>\n",
              "    <tr>\n",
              "      <th>110501</th>\n",
              "      <td>44</td>\n",
              "      <td>0</td>\n",
              "      <td>0</td>\n",
              "      <td>0</td>\n",
              "      <td>over18</td>\n",
              "    </tr>\n",
              "    <tr>\n",
              "      <th>110502</th>\n",
              "      <td>22</td>\n",
              "      <td>0</td>\n",
              "      <td>0</td>\n",
              "      <td>0</td>\n",
              "      <td>over18</td>\n",
              "    </tr>\n",
              "    <tr>\n",
              "      <th>110503</th>\n",
              "      <td>64</td>\n",
              "      <td>0</td>\n",
              "      <td>0</td>\n",
              "      <td>0</td>\n",
              "      <td>over18</td>\n",
              "    </tr>\n",
              "    <tr>\n",
              "      <th>110504</th>\n",
              "      <td>4</td>\n",
              "      <td>0</td>\n",
              "      <td>0</td>\n",
              "      <td>0</td>\n",
              "      <td>under18</td>\n",
              "    </tr>\n",
              "    <tr>\n",
              "      <th>110505</th>\n",
              "      <td>55</td>\n",
              "      <td>0</td>\n",
              "      <td>0</td>\n",
              "      <td>0</td>\n",
              "      <td>over18</td>\n",
              "    </tr>\n",
              "    <tr>\n",
              "      <th>110506</th>\n",
              "      <td>5</td>\n",
              "      <td>0</td>\n",
              "      <td>0</td>\n",
              "      <td>0</td>\n",
              "      <td>under18</td>\n",
              "    </tr>\n",
              "    <tr>\n",
              "      <th>110507</th>\n",
              "      <td>0</td>\n",
              "      <td>0</td>\n",
              "      <td>0</td>\n",
              "      <td>0</td>\n",
              "      <td>under18</td>\n",
              "    </tr>\n",
              "    <tr>\n",
              "      <th>110508</th>\n",
              "      <td>59</td>\n",
              "      <td>0</td>\n",
              "      <td>0</td>\n",
              "      <td>0</td>\n",
              "      <td>over18</td>\n",
              "    </tr>\n",
              "    <tr>\n",
              "      <th>110509</th>\n",
              "      <td>33</td>\n",
              "      <td>0</td>\n",
              "      <td>0</td>\n",
              "      <td>0</td>\n",
              "      <td>over18</td>\n",
              "    </tr>\n",
              "    <tr>\n",
              "      <th>110510</th>\n",
              "      <td>64</td>\n",
              "      <td>0</td>\n",
              "      <td>0</td>\n",
              "      <td>0</td>\n",
              "      <td>over18</td>\n",
              "    </tr>\n",
              "    <tr>\n",
              "      <th>110511</th>\n",
              "      <td>14</td>\n",
              "      <td>0</td>\n",
              "      <td>0</td>\n",
              "      <td>0</td>\n",
              "      <td>under18</td>\n",
              "    </tr>\n",
              "    <tr>\n",
              "      <th>110512</th>\n",
              "      <td>41</td>\n",
              "      <td>0</td>\n",
              "      <td>0</td>\n",
              "      <td>0</td>\n",
              "      <td>over18</td>\n",
              "    </tr>\n",
              "    <tr>\n",
              "      <th>110513</th>\n",
              "      <td>2</td>\n",
              "      <td>0</td>\n",
              "      <td>0</td>\n",
              "      <td>0</td>\n",
              "      <td>under18</td>\n",
              "    </tr>\n",
              "    <tr>\n",
              "      <th>110514</th>\n",
              "      <td>58</td>\n",
              "      <td>0</td>\n",
              "      <td>0</td>\n",
              "      <td>0</td>\n",
              "      <td>over18</td>\n",
              "    </tr>\n",
              "    <tr>\n",
              "      <th>110517</th>\n",
              "      <td>19</td>\n",
              "      <td>0</td>\n",
              "      <td>0</td>\n",
              "      <td>0</td>\n",
              "      <td>over18</td>\n",
              "    </tr>\n",
              "    <tr>\n",
              "      <th>110518</th>\n",
              "      <td>50</td>\n",
              "      <td>0</td>\n",
              "      <td>0</td>\n",
              "      <td>0</td>\n",
              "      <td>over18</td>\n",
              "    </tr>\n",
              "    <tr>\n",
              "      <th>110519</th>\n",
              "      <td>22</td>\n",
              "      <td>0</td>\n",
              "      <td>0</td>\n",
              "      <td>0</td>\n",
              "      <td>over18</td>\n",
              "    </tr>\n",
              "    <tr>\n",
              "      <th>110520</th>\n",
              "      <td>42</td>\n",
              "      <td>0</td>\n",
              "      <td>0</td>\n",
              "      <td>0</td>\n",
              "      <td>over18</td>\n",
              "    </tr>\n",
              "    <tr>\n",
              "      <th>110521</th>\n",
              "      <td>53</td>\n",
              "      <td>0</td>\n",
              "      <td>0</td>\n",
              "      <td>0</td>\n",
              "      <td>over18</td>\n",
              "    </tr>\n",
              "    <tr>\n",
              "      <th>110522</th>\n",
              "      <td>56</td>\n",
              "      <td>0</td>\n",
              "      <td>0</td>\n",
              "      <td>0</td>\n",
              "      <td>over18</td>\n",
              "    </tr>\n",
              "    <tr>\n",
              "      <th>110523</th>\n",
              "      <td>51</td>\n",
              "      <td>0</td>\n",
              "      <td>0</td>\n",
              "      <td>0</td>\n",
              "      <td>over18</td>\n",
              "    </tr>\n",
              "    <tr>\n",
              "      <th>110524</th>\n",
              "      <td>21</td>\n",
              "      <td>0</td>\n",
              "      <td>0</td>\n",
              "      <td>0</td>\n",
              "      <td>over18</td>\n",
              "    </tr>\n",
              "    <tr>\n",
              "      <th>110525</th>\n",
              "      <td>38</td>\n",
              "      <td>0</td>\n",
              "      <td>0</td>\n",
              "      <td>0</td>\n",
              "      <td>over18</td>\n",
              "    </tr>\n",
              "    <tr>\n",
              "      <th>110526</th>\n",
              "      <td>54</td>\n",
              "      <td>0</td>\n",
              "      <td>0</td>\n",
              "      <td>0</td>\n",
              "      <td>over18</td>\n",
              "    </tr>\n",
              "  </tbody>\n",
              "</table>\n",
              "<p>88207 rows × 5 columns</p>\n",
              "</div>"
            ],
            "text/plain": [
              "        age  scholarship  handcap  no_show agegroup\n",
              "0        62            0        0        0   over18\n",
              "1        56            0        0        0   over18\n",
              "2        62            0        0        0   over18\n",
              "3         8            0        0        0  under18\n",
              "4        56            0        0        0   over18\n",
              "...     ...          ...      ...      ...      ...\n",
              "110522   56            0        0        0   over18\n",
              "110523   51            0        0        0   over18\n",
              "110524   21            0        0        0   over18\n",
              "110525   38            0        0        0   over18\n",
              "110526   54            0        0        0   over18\n",
              "\n",
              "[88207 rows x 5 columns]"
            ]
          },
          "execution_count": 30,
          "metadata": {},
          "output_type": "execute_result"
        }
      ],
      "source": [
        "df_noshow"
      ]
    },
    {
      "cell_type": "code",
      "execution_count": null,
      "metadata": {
        "id": "iGmTfGr3jqXd",
        "outputId": "489bb28d-49f8-4dbe-f7aa-cf7a78d9cf5f"
      },
      "outputs": [
        {
          "data": {
            "text/plain": [
              "5997"
            ]
          },
          "execution_count": 31,
          "metadata": {},
          "output_type": "execute_result"
        }
      ],
      "source": [
        "#To sum the  under 18 agegroup that show up\n",
        "PR = (df_show.agegroup =='under18').sum()\n",
        "PR"
      ]
    },
    {
      "cell_type": "code",
      "execution_count": null,
      "metadata": {
        "id": "S2uGHyx2jqXd",
        "outputId": "41c4542a-db64-4aee-8ebb-3995ee4fa0b0"
      },
      "outputs": [
        {
          "data": {
            "text/plain": [
              "16322"
            ]
          },
          "execution_count": 32,
          "metadata": {},
          "output_type": "execute_result"
        }
      ],
      "source": [
        "#To sum over 18 agegroup that show up\n",
        "QR =(df_show.agegroup =='over18').sum()\n",
        "QR"
      ]
    },
    {
      "cell_type": "code",
      "execution_count": null,
      "metadata": {
        "id": "WDNZvmCNjqXd",
        "outputId": "5490fa16-ae78-40df-cceb-7bd57c7e40a6"
      },
      "outputs": [
        {
          "data": {
            "text/plain": [
              "21382"
            ]
          },
          "execution_count": 33,
          "metadata": {},
          "output_type": "execute_result"
        }
      ],
      "source": [
        "#To sum the under 18 agegroup that didnt show up\n",
        "SR =(df_noshow.agegroup =='under18').sum()\n",
        "SR"
      ]
    },
    {
      "cell_type": "code",
      "execution_count": null,
      "metadata": {
        "id": "XYxhgli9jqXe",
        "outputId": "c34fd82d-5051-44af-d2bb-35c47192fc00"
      },
      "outputs": [
        {
          "data": {
            "text/plain": [
              "66825"
            ]
          },
          "execution_count": 34,
          "metadata": {},
          "output_type": "execute_result"
        }
      ],
      "source": [
        "#To sum the over 18 agegroup that didnt show up\n",
        "RR =(df_noshow.agegroup =='over18').sum()\n",
        "RR"
      ]
    },
    {
      "cell_type": "code",
      "execution_count": null,
      "metadata": {
        "id": "1_8ZZ6nHjqXe",
        "outputId": "ed5824d1-8e42-4e45-f0ee-b7df462c9b8a"
      },
      "outputs": [
        {
          "data": {
            "image/png": "[encoded data removed]",
            "text/plain": [
              "<matplotlib.figure.Figure at 0x7f4a479549e8>"
            ]
          },
          "metadata": {
            "needs_background": "light"
          },
          "output_type": "display_data"
        }
      ],
      "source": [
        "#To plot a chart to visualise the agegroup of the patient to no_show\n",
        "X =  ['show','noshow']\n",
        "\n",
        "show = [PR,QR]\n",
        "noshow = [SR,RR]\n",
        "\n",
        "X_axis = np.arange(len(X))\n",
        "plt.bar(X_axis - 0.2, show,  width =0.4, label = 'under18')\n",
        "plt.bar(X_axis + 0.2, noshow, width =0.4, label = 'over18')\n",
        "\n",
        "plt.xticks(X_axis, X)\n",
        "plt.xlabel(\"no_show\")\n",
        "plt.ylabel(\"agegroup\")\n",
        "plt.title(\"A Chart To Show Agegroup Of Patients With Appointment Show-Up Status \")\n",
        "plt.legend();\n"
      ]
    },
    {
      "cell_type": "markdown",
      "metadata": {
        "id": "STE5z03XjqXf"
      },
      "source": [
        "The chart above shows distribution of patients by agegfroup of over 18 and under 18, who showed up or didnt show up fpr their appointment based on the agegroup.The barchart was used to visualise the distribution, which showed that the agegroup of over18 age group didnt show up for their appointment as compared to the ones tthat showed up and the under 18 agegroup showed up for their appointment more than  the oness that showed up,however first had to create a new column for the agegroup because i will need to use that for the comparism from the first question."
      ]
    },
    {
      "cell_type": "markdown",
      "metadata": {
        "id": "F9_rHgoFjqXf"
      },
      "source": [
        "## Question2. How has handicap or Not Affected The patients Showing up for Appointment"
      ]
    },
    {
      "cell_type": "code",
      "execution_count": null,
      "metadata": {
        "id": "cq0WAu6NjqXf",
        "outputId": "6062d206-ceb8-4a08-dceb-15b3f8668ba7"
      },
      "outputs": [
        {
          "data": {
            "image/png": "[encoded data removed]",
            "text/plain": [
              "<matplotlib.figure.Figure at 0x7f4a4799f710>"
            ]
          },
          "metadata": {
            "needs_background": "light"
          },
          "output_type": "display_data"
        }
      ],
      "source": [
        "#creating a function to visualise barchart of the distributioin\n",
        "color = ['pink','blue']\n",
        "label = ['nohandcap','handcap']\n",
        "df_handcap = df['handcap'].value_counts()\n",
        "def handcap_function(df_handcap):\n",
        "        plt.bar(label,df_handcap,color = color)\n",
        "        plt.title('Relationship Between Handicap and Noshow')\n",
        "        plt.xlabel('handcap')\n",
        "        plt.ylabel('no_show')\n",
        "        plt.show()\n",
        "                        \n",
        "handcap_function(df_handcap)\n"
      ]
    },
    {
      "cell_type": "markdown",
      "metadata": {
        "id": "JHBC-28hjqXg"
      },
      "source": [
        "Distribution of patient who showed up for their appointment based on if they are handicapped or not was used to visualise the distribution.It shows that patients with no handicap show up for their appointment when compared to patients that are handicapped."
      ]
    },
    {
      "cell_type": "markdown",
      "metadata": {
        "id": "yQsTYNDTjqXg"
      },
      "source": [
        "## Question 3. How has patients with Health Insurance or Not and Handicap Showed Up For  Appointment"
      ]
    },
    {
      "cell_type": "code",
      "execution_count": null,
      "metadata": {
        "id": "hz4i2eyvjqXh",
        "outputId": "9d62de74-fbf4-43a0-8435-217d554d28f6"
      },
      "outputs": [
        {
          "data": {
            "text/plain": [
              "Text(0.5,0,'no_show')"
            ]
          },
          "execution_count": 37,
          "metadata": {},
          "output_type": "execute_result"
        },
        {
          "data": {
            "image/png": "[encoded data removed]",
            "text/plain": [
              "<matplotlib.figure.Figure at 0x7f4a479a3710>"
            ]
          },
          "metadata": {
            "needs_background": "light"
          },
          "output_type": "display_data"
        }
      ],
      "source": [
        "#To visualise the relationship between handcap and scholarship with no_show using a barchart\n",
        "df.groupby(['handcap','scholarship']).no_show.mean().plot(kind='barh');\n",
        "plt.title('Relationship Between Handicap,Scholarship,and no_show')\n",
        "plt.ylabel('handcap,scholarship')\n",
        "plt.xlabel('no_show')\n"
      ]
    },
    {
      "cell_type": "markdown",
      "metadata": {
        "id": "Iyp-M-_4jqXh"
      },
      "source": [
        "The distribution of patients who showed up for their appointment or  not  based to handicapped or not, and whether they have insurance or not which is a bivairate comparism visulised using a barchart signifies thatpatents with no handficap and has health insurance showed up for their appointment the most, then the patients that are not handicap and no health insurance showed up in second order.while the patients with handicap and no  health isurance showed in the third order.lastly patients with handicap and has health insurance showed up the least for theior appointment from the visualisation done."
      ]
    },
    {
      "cell_type": "markdown",
      "metadata": {
        "id": "vZouVnYljqXh"
      },
      "source": [
        "# # Question 4. How has patients with Health Insurance or Not Showed Up For  Appointment?"
      ]
    },
    {
      "cell_type": "code",
      "execution_count": null,
      "metadata": {
        "id": "rP987NskjqXi"
      },
      "outputs": [],
      "source": [
        "#mask for scholar and no scholar\n",
        "scholar=df.scholarship == True\n",
        "noscholar=df.scholarship == False"
      ]
    },
    {
      "cell_type": "code",
      "execution_count": null,
      "metadata": {
        "id": "884cxQCrjqXi",
        "outputId": "01f925a8-7a1d-4721-e2d6-f08e227a848f"
      },
      "outputs": [
        {
          "data": {
            "image/png": "[encoded data removed]",
            "text/plain": [
              "<matplotlib.figure.Figure at 0x7f4a4784f860>"
            ]
          },
          "metadata": {
            "needs_background": "light"
          },
          "output_type": "display_data"
        }
      ],
      "source": [
        "#visualisation of a plot of histogram\n",
        "df.no_show[scholar].hist(alpha=0.5, bins=15, color='red',label='showed up')\n",
        "df.no_show[noscholar].hist(alpha=0.1, bins=15, color='blue',label='didnt show up')\n",
        "plt.legend();\n",
        "plt.title('schorlarship and no_show')\n",
        "plt.xlabel('schorlarship')\n",
        "plt.ylabel('no_show');"
      ]
    },
    {
      "cell_type": "markdown",
      "metadata": {
        "id": "i-DGN2v5jqXj"
      },
      "source": [
        "The distribution of patient who showed up as compared to those that didnt show up based on the health insurance did signify that more patient without health showed up for their appointmnet to those that have scholarship.The histogram was used to visualize the distribution."
      ]
    },
    {
      "cell_type": "markdown",
      "metadata": {
        "id": "LHQ6IZ9xjqXj"
      },
      "source": [
        "# #Conclusion"
      ]
    },
    {
      "cell_type": "markdown",
      "metadata": {
        "id": "xlVndEM-jqXj"
      },
      "source": [
        "\n",
        "Results:The observation from the dataset at the end of research arec as follows\n",
        "1. It showed that patients that are over 18 age group generally showed up for their appointment and also the under the age of under 18 didnt showedup as compared to over 18 age  group, which sums up that adults which a clearcut distinct of age above 18 since the index used is over 18 showed up compared to the children which is under 18 age group and alos the population is generally over 18 age group which is another firm reason  to why they show up for their appointment.\n",
        "\n",
        "2.Health insurance has has little effect as to why the patient show up for their appointment, this  is as a result that there wasnt a considerable difference in number from the question 4 posed.\n",
        "\n",
        "3.patients who are not handicap showedup more for their appointment compared to the ones that are handicap.\n",
        "\n",
        "4.Finally,At the end of the research,the four question that was posed at the beginning was visualised and the some relatioship was establishd between the variables"
      ]
    },
    {
      "cell_type": "markdown",
      "metadata": {
        "id": "9JKqVMJMjqXk"
      },
      "source": [
        "## Limitations"
      ]
    },
    {
      "cell_type": "markdown",
      "metadata": {
        "id": "f8cE-zOFjqXk"
      },
      "source": [
        "\n",
        "1.The  limitation was that the patient noshowcolumn which had to be coverted from object to integers.\n"
      ]
    },
    {
      "cell_type": "markdown",
      "metadata": {
        "id": "4LhDlFyrjqXk"
      },
      "source": [
        "# Reference"
      ]
    },
    {
      "cell_type": "markdown",
      "metadata": {
        "id": "Yf5j38FxjqXk"
      },
      "source": [
        "[1]:https://d17h27t6h515a5.cloudfront.net/topher/2017/october/59dd2ee9a_noshowappointments-kagglev2-may-2016/noshowappointments-kagglev2-may-2016.csv \n",
        "[2] W. McKinney, Python for data analysis: data wrangling with pandas, NumPy, and IPython, Second edition. Sebastopol, California: O’Reilly Media, Inc, 2018."
      ]
    },
    {
      "cell_type": "code",
      "execution_count": null,
      "metadata": {
        "id": "QnOhg6PFjqXl",
        "outputId": "c9dff577-eb52-4161-85ef-0895f63b9f2c"
      },
      "outputs": [
        {
          "data": {
            "text/plain": [
              "0"
            ]
          },
          "execution_count": 40,
          "metadata": {},
          "output_type": "execute_result"
        }
      ],
      "source": [
        "from subprocess import call\n",
        "call(['python', '-m', 'nbconvert', 'Investigate_a_Dataset.ipynb'])"
      ]
    },
    {
      "cell_type": "code",
      "execution_count": null,
      "metadata": {
        "id": "s3F6mQKvjqXl"
      },
      "outputs": [],
      "source": []
    },
    {
      "cell_type": "code",
      "execution_count": null,
      "metadata": {
        "id": "bHNYb9d_jqXm"
      },
      "outputs": [],
      "source": []
    }
  ],
  "metadata": {
    "kernelspec": {
      "display_name": "Python 3",
      "language": "python",
      "name": "python3"
    },
    "language_info": {
      "codemirror_mode": {
        "name": "ipython",
        "version": 3
      },
      "file_extension": ".py",
      "mimetype": "text/x-python",
      "name": "python",
      "nbconvert_exporter": "python",
      "pygments_lexer": "ipython3",
      "version": "3.6.3"
    },
    "colab": {
      "provenance": [],
      "include_colab_link": true
    }
  },
  "nbformat": 4,
  "nbformat_minor": 0
}